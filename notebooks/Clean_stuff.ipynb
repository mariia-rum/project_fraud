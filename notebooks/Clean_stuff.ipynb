{
 "cells": [
  {
   "cell_type": "code",
   "execution_count": 1,
   "metadata": {},
   "outputs": [],
   "source": [
    "import pandas as pd\n",
    "import numpy as np\n",
    "import matplotlib.pyplot as plt\n",
    "from sklearn.preprocessing import LabelEncoder\n",
    "from sklearn.metrics import accuracy_score\n",
    "from sklearn.metrics import mean_squared_error, roc_auc_score\n",
    "from sklearn.model_selection import KFold\n",
    "from sklearn.model_selection import cross_val_score\n",
    "import seaborn as sns"
   ]
  },
  {
   "cell_type": "code",
   "execution_count": 2,
   "metadata": {},
   "outputs": [
    {
     "ename": "ImportError",
     "evalue": "cannot import name 'drop_many_missing_values' from 'project_fraud.lib' (/Users/johannagerdts/.pyenv/versions/3.7.7/envs/lewagon/lib/python3.7/site-packages/project_fraud/lib.py)",
     "output_type": "error",
     "traceback": [
      "\u001b[0;31m---------------------------------------------------------------------------\u001b[0m",
      "\u001b[0;31mImportError\u001b[0m                               Traceback (most recent call last)",
      "\u001b[0;32m<ipython-input-2-36bcb404f0fd>\u001b[0m in \u001b[0;36m<module>\u001b[0;34m\u001b[0m\n\u001b[0;32m----> 1\u001b[0;31m \u001b[0;32mfrom\u001b[0m \u001b[0mproject_fraud\u001b[0m\u001b[0;34m.\u001b[0m\u001b[0mlib\u001b[0m \u001b[0;32mimport\u001b[0m \u001b[0mdrop_many_missing_values\u001b[0m\u001b[0;34m\u001b[0m\u001b[0;34m\u001b[0m\u001b[0m\n\u001b[0m",
      "\u001b[0;31mImportError\u001b[0m: cannot import name 'drop_many_missing_values' from 'project_fraud.lib' (/Users/johannagerdts/.pyenv/versions/3.7.7/envs/lewagon/lib/python3.7/site-packages/project_fraud/lib.py)"
     ]
    }
   ],
   "source": [
    "from project_fraud.lib import drop_many_missing_values\n"
   ]
  },
  {
   "cell_type": "code",
   "execution_count": null,
   "metadata": {},
   "outputs": [],
   "source": []
  },
  {
   "cell_type": "code",
   "execution_count": 3,
   "metadata": {},
   "outputs": [
    {
     "name": "stdout",
     "output_type": "stream",
     "text": [
      "/Users/johannagerdts/code/mariia-rum/project_fraud/notebooks\r\n"
     ]
    }
   ],
   "source": [
    "!pwd"
   ]
  },
  {
   "cell_type": "code",
   "execution_count": 16,
   "metadata": {},
   "outputs": [
    {
     "name": "stdout",
     "output_type": "stream",
     "text": [
      "/Users/johannagerdts/code/mariia-rum\n",
      "\u001b[1m\u001b[36mproject_fraud\u001b[m\u001b[m/\r\n"
     ]
    },
    {
     "ename": "ImportError",
     "evalue": "cannot import name 'drop_many_missing_values' from 'project_fraud.lib' (/Users/johannagerdts/.pyenv/versions/3.7.7/envs/lewagon/lib/python3.7/site-packages/project_fraud/lib.py)",
     "output_type": "error",
     "traceback": [
      "\u001b[0;31m---------------------------------------------------------------------------\u001b[0m",
      "\u001b[0;31mImportError\u001b[0m                               Traceback (most recent call last)",
      "\u001b[0;32m<ipython-input-16-35ac0c620ba3>\u001b[0m in \u001b[0;36m<module>\u001b[0;34m\u001b[0m\n\u001b[1;32m      1\u001b[0m \u001b[0mget_ipython\u001b[0m\u001b[0;34m(\u001b[0m\u001b[0;34m)\u001b[0m\u001b[0;34m.\u001b[0m\u001b[0mrun_line_magic\u001b[0m\u001b[0;34m(\u001b[0m\u001b[0;34m'cd'\u001b[0m\u001b[0;34m,\u001b[0m \u001b[0;34m'mariia-rum'\u001b[0m\u001b[0;34m)\u001b[0m\u001b[0;34m\u001b[0m\u001b[0;34m\u001b[0m\u001b[0m\n\u001b[1;32m      2\u001b[0m \u001b[0mget_ipython\u001b[0m\u001b[0;34m(\u001b[0m\u001b[0;34m)\u001b[0m\u001b[0;34m.\u001b[0m\u001b[0mrun_line_magic\u001b[0m\u001b[0;34m(\u001b[0m\u001b[0;34m'ls'\u001b[0m\u001b[0;34m,\u001b[0m \u001b[0;34m''\u001b[0m\u001b[0;34m)\u001b[0m\u001b[0;34m\u001b[0m\u001b[0;34m\u001b[0m\u001b[0m\n\u001b[0;32m----> 3\u001b[0;31m \u001b[0;32mfrom\u001b[0m \u001b[0mproject_fraud\u001b[0m\u001b[0;34m.\u001b[0m\u001b[0mlib\u001b[0m \u001b[0;32mimport\u001b[0m \u001b[0mdrop_many_missing_values\u001b[0m\u001b[0;34m\u001b[0m\u001b[0;34m\u001b[0m\u001b[0m\n\u001b[0m",
      "\u001b[0;31mImportError\u001b[0m: cannot import name 'drop_many_missing_values' from 'project_fraud.lib' (/Users/johannagerdts/.pyenv/versions/3.7.7/envs/lewagon/lib/python3.7/site-packages/project_fraud/lib.py)"
     ]
    }
   ],
   "source": [
    "%cd mariia-rum\n",
    "%ls\n",
    "from project_fraud.lib import drop_many_missing_values"
   ]
  },
  {
   "cell_type": "code",
   "execution_count": 17,
   "metadata": {},
   "outputs": [
    {
     "name": "stdout",
     "output_type": "stream",
     "text": [
      "/Users/johannagerdts/code/mariia-rum/project_fraud\n"
     ]
    }
   ],
   "source": [
    "%cd project_fraud"
   ]
  },
  {
   "cell_type": "code",
   "execution_count": 20,
   "metadata": {},
   "outputs": [
    {
     "name": "stdout",
     "output_type": "stream",
     "text": [
      "/Users/johannagerdts/code/mariia-rum/project_fraud/project_fraud\n"
     ]
    }
   ],
   "source": [
    "%cd project_fraud"
   ]
  },
  {
   "cell_type": "code",
   "execution_count": 21,
   "metadata": {},
   "outputs": [],
   "source": [
    "from lib import drop_many_missing_values"
   ]
  },
  {
   "cell_type": "code",
   "execution_count": 23,
   "metadata": {},
   "outputs": [],
   "source": [
    "import sys \n",
    "sys.path.append('/Users/johannagerdts/code/mariia-rum/project_fraud/project_fraud')"
   ]
  },
  {
   "cell_type": "code",
   "execution_count": 22,
   "metadata": {},
   "outputs": [],
   "source": [
    "data = drop_many_missing_values()\n"
   ]
  },
  {
   "cell_type": "markdown",
   "metadata": {},
   "source": [
    "# FEATURES "
   ]
  },
  {
   "cell_type": "markdown",
   "metadata": {},
   "source": [
    "# Convert mail column"
   ]
  },
  {
   "cell_type": "code",
   "execution_count": 24,
   "metadata": {},
   "outputs": [],
   "source": [
    "emails = {'gmail': 'google', 'att.net': 'att', 'twc.com': 'spectrum', \n",
    "          'scranton.edu': 'other', 'optonline.net': 'other', 'hotmail.co.uk': 'microsoft',\n",
    "          'comcast.net': 'other', 'yahoo.com.mx': 'yahoo', 'yahoo.fr': 'yahoo',\n",
    "          'yahoo.es': 'yahoo', 'charter.net': 'spectrum', 'live.com': 'microsoft', \n",
    "          'aim.com': 'aol', 'hotmail.de': 'microsoft', 'centurylink.net': 'centurylink',\n",
    "          'gmail.com': 'google', 'me.com': 'apple', 'earthlink.net': 'other', 'gmx.de': 'other',\n",
    "          'web.de': 'other', 'cfl.rr.com': 'other', 'hotmail.com': 'microsoft', \n",
    "          'protonmail.com': 'other', 'hotmail.fr': 'microsoft', 'windstream.net': 'other', \n",
    "          'outlook.es': 'microsoft', 'yahoo.co.jp': 'yahoo', 'yahoo.de': 'yahoo',\n",
    "          'servicios-ta.com': 'other', 'netzero.net': 'other', 'suddenlink.net': 'other',\n",
    "          'roadrunner.com': 'other', 'sc.rr.com': 'other', 'live.fr': 'microsoft',\n",
    "          'verizon.net': 'yahoo', 'msn.com': 'microsoft', 'q.com': 'centurylink', \n",
    "          'prodigy.net.mx': 'att', 'frontier.com': 'yahoo', 'anonymous.com': 'other', \n",
    "          'rocketmail.com': 'yahoo', 'sbcglobal.net': 'att', 'frontiernet.net': 'yahoo', \n",
    "          'ymail.com': 'yahoo', 'outlook.com': 'microsoft', 'mail.com': 'other', \n",
    "          'bellsouth.net': 'other', 'embarqmail.com': 'centurylink', 'cableone.net': 'other', \n",
    "          'hotmail.es': 'microsoft', 'mac.com': 'apple', 'yahoo.co.uk': 'yahoo', 'netzero.com': 'other', \n",
    "          'yahoo.com': 'yahoo', 'live.com.mx': 'microsoft', 'ptd.net': 'other', 'cox.net': 'other',\n",
    "          'aol.com': 'aol', 'juno.com': 'other', 'icloud.com': 'apple'}\n",
    "\n",
    "for c in ['P_emaildomain']:\n",
    "    data[c + '_bin'] = data[c].map(emails)\n",
    "    data[c + '_suffix'] = data[c].map(lambda x: str(x).split('.')[-1])\n",
    "    \n",
    "\n",
    "  "
   ]
  },
  {
   "cell_type": "markdown",
   "metadata": {},
   "source": [
    "# New feature: day of the week"
   ]
  },
  {
   "cell_type": "code",
   "execution_count": 25,
   "metadata": {},
   "outputs": [],
   "source": [
    "# create new feature day of the week, encoded as 0-6 \n",
    "# found a good offset is 0.58\n",
    "\n",
    "def make_day_feature(data, offset=0, column_name='TransactionDT'):\n",
    "\n",
    "    days = data[column_name] / (3600*24)        \n",
    "    encoded_days = np.floor(days-1+offset) % 7\n",
    "    return encoded_days"
   ]
  },
  {
   "cell_type": "markdown",
   "metadata": {},
   "source": [
    "# New feature: hour of the day"
   ]
  },
  {
   "cell_type": "code",
   "execution_count": 26,
   "metadata": {},
   "outputs": [],
   "source": [
    "# create new feature hour of the day, encoded as 0-23\n",
    "\n",
    "def make_hour_feature(data, column_name='TransactionDT'):\n",
    "\n",
    "    hours = data[column_name] / (3600)        \n",
    "    encoded_hours = np.floor(hours) % 24\n",
    "    return encoded_hours"
   ]
  },
  {
   "cell_type": "code",
   "execution_count": null,
   "metadata": {},
   "outputs": [],
   "source": []
  },
  {
   "cell_type": "markdown",
   "metadata": {},
   "source": [
    "# Create new features: weekday and hour of day"
   ]
  },
  {
   "cell_type": "code",
   "execution_count": 27,
   "metadata": {},
   "outputs": [],
   "source": [
    "# create new feature weekday\n",
    "# offset to define start of the day: 0.85\n",
    "\n",
    "data['weekday'] = make_day_feature(data, offset=0.58)\n",
    "\n",
    "\n"
   ]
  },
  {
   "cell_type": "code",
   "execution_count": 28,
   "metadata": {},
   "outputs": [],
   "source": [
    "# create a feature which encodes the (relative) hour of the day\n",
    "\n",
    "data['hours'] = make_hour_feature(data)\n"
   ]
  },
  {
   "cell_type": "markdown",
   "metadata": {},
   "source": [
    "# New features on each credit card"
   ]
  },
  {
   "cell_type": "code",
   "execution_count": 29,
   "metadata": {},
   "outputs": [],
   "source": [
    "def function(row):\n",
    "    if pd.isna(row['card1']):\n",
    "        return np.nan\n",
    "    elif pd.isna(row['card2']):\n",
    "        return np.nan\n",
    "    elif pd.isna(row['card3']):\n",
    "        return np.nan\n",
    "    elif pd.isna(row['card4']):\n",
    "        return np.nan\n",
    "    elif pd.isna(row['card5']):\n",
    "        return np.nan\n",
    "    elif pd.isna(row['card6']):\n",
    "        return np.nan\n",
    "    else: \n",
    "        return str(row['card1']) + str(row['card2']) + str(row['card3']) + str(row['card4']) + str(row['card5']) + str(row['card6'])"
   ]
  },
  {
   "cell_type": "code",
   "execution_count": 30,
   "metadata": {},
   "outputs": [],
   "source": [
    "data['cardID'] = data.apply(lambda row: function(row), axis=1)\n"
   ]
  },
  {
   "cell_type": "code",
   "execution_count": 31,
   "metadata": {},
   "outputs": [],
   "source": [
    "credit_cards = data.groupby('cardID').agg(\n",
    "    mean = pd.NamedAgg(column='TransactionAmt', aggfunc='mean'), \n",
    "    min = pd.NamedAgg(column='TransactionAmt', aggfunc='min'), \n",
    "    max = pd.NamedAgg(column='TransactionAmt', aggfunc='max'),\n",
    "    median = pd.NamedAgg(column='TransactionAmt', aggfunc='median'),\n",
    ")"
   ]
  },
  {
   "cell_type": "code",
   "execution_count": 32,
   "metadata": {},
   "outputs": [],
   "source": [
    "data = data.merge(credit_cards, how='left', on=\"cardID\")"
   ]
  },
  {
   "cell_type": "code",
   "execution_count": null,
   "metadata": {},
   "outputs": [],
   "source": []
  },
  {
   "cell_type": "markdown",
   "metadata": {},
   "source": [
    "\n",
    "# Create new features:\n",
    "- Distance of current transaction from mean of transaction from credit card\n",
    "- Distance of current transaction from median of transaction from credit card\n",
    "- Relative distance of current transaction from mean of transaction from credit card\n",
    "- Relative distance of current transaction from median of transaction from credit card"
   ]
  },
  {
   "cell_type": "code",
   "execution_count": 33,
   "metadata": {},
   "outputs": [],
   "source": [
    "def dist_from_mean(row, metric): \n",
    "    if pd.isna(row['TransactionAmt']):\n",
    "        return np.nan\n",
    "    if pd.isna(row[metric]):\n",
    "        return np.nan\n",
    "    else: \n",
    "        dist = row['TransactionAmt'] - row[metric]\n",
    "        return dist"
   ]
  },
  {
   "cell_type": "code",
   "execution_count": 34,
   "metadata": {},
   "outputs": [],
   "source": [
    "data['dist_mean'] = data.apply(lambda row: dist_from_mean(row, 'mean'), axis=1)\n",
    "data['dist_median'] = data.apply(lambda row: dist_from_mean(row, 'median'), axis=1)"
   ]
  },
  {
   "cell_type": "code",
   "execution_count": 35,
   "metadata": {},
   "outputs": [],
   "source": [
    "def dist_from_median_rel(row, metric): \n",
    "    if pd.isna(row['TransactionAmt']):\n",
    "        return np.nan\n",
    "    if pd.isna(row[metric]):\n",
    "        return np.nan\n",
    "    else: \n",
    "        dist_rel = (row['TransactionAmt'] - row[metric]) / row[metric]\n",
    "        return dist_rel"
   ]
  },
  {
   "cell_type": "code",
   "execution_count": 36,
   "metadata": {},
   "outputs": [],
   "source": [
    "data['dist_mean_rel'] = data.apply(lambda row: dist_from_median_rel(row, 'mean'), axis=1)"
   ]
  },
  {
   "cell_type": "code",
   "execution_count": 37,
   "metadata": {},
   "outputs": [],
   "source": [
    "data['dist_median_rel'] = data.apply(lambda row: dist_from_median_rel(row, 'median'), axis=1)"
   ]
  },
  {
   "cell_type": "code",
   "execution_count": 38,
   "metadata": {},
   "outputs": [
    {
     "data": {
      "text/html": [
       "<div>\n",
       "<style scoped>\n",
       "    .dataframe tbody tr th:only-of-type {\n",
       "        vertical-align: middle;\n",
       "    }\n",
       "\n",
       "    .dataframe tbody tr th {\n",
       "        vertical-align: top;\n",
       "    }\n",
       "\n",
       "    .dataframe thead th {\n",
       "        text-align: right;\n",
       "    }\n",
       "</style>\n",
       "<table border=\"1\" class=\"dataframe\">\n",
       "  <thead>\n",
       "    <tr style=\"text-align: right;\">\n",
       "      <th></th>\n",
       "      <th>TransactionID</th>\n",
       "      <th>isFraud</th>\n",
       "      <th>TransactionDT</th>\n",
       "      <th>TransactionAmt</th>\n",
       "      <th>ProductCD</th>\n",
       "      <th>card1</th>\n",
       "      <th>card2</th>\n",
       "      <th>card3</th>\n",
       "      <th>card4</th>\n",
       "      <th>card5</th>\n",
       "      <th>...</th>\n",
       "      <th>hours</th>\n",
       "      <th>cardID</th>\n",
       "      <th>mean</th>\n",
       "      <th>min</th>\n",
       "      <th>max</th>\n",
       "      <th>median</th>\n",
       "      <th>dist_mean</th>\n",
       "      <th>dist_median</th>\n",
       "      <th>dist_mean_rel</th>\n",
       "      <th>dist_median_rel</th>\n",
       "    </tr>\n",
       "  </thead>\n",
       "  <tbody>\n",
       "    <tr>\n",
       "      <th>0</th>\n",
       "      <td>2987000</td>\n",
       "      <td>0</td>\n",
       "      <td>86400</td>\n",
       "      <td>68.500</td>\n",
       "      <td>W</td>\n",
       "      <td>13926</td>\n",
       "      <td>NaN</td>\n",
       "      <td>150.0</td>\n",
       "      <td>discover</td>\n",
       "      <td>142.0</td>\n",
       "      <td>...</td>\n",
       "      <td>0.0</td>\n",
       "      <td>NaN</td>\n",
       "      <td>NaN</td>\n",
       "      <td>NaN</td>\n",
       "      <td>NaN</td>\n",
       "      <td>NaN</td>\n",
       "      <td>NaN</td>\n",
       "      <td>NaN</td>\n",
       "      <td>NaN</td>\n",
       "      <td>NaN</td>\n",
       "    </tr>\n",
       "    <tr>\n",
       "      <th>1</th>\n",
       "      <td>2987001</td>\n",
       "      <td>0</td>\n",
       "      <td>86401</td>\n",
       "      <td>29.000</td>\n",
       "      <td>W</td>\n",
       "      <td>2755</td>\n",
       "      <td>404.0</td>\n",
       "      <td>150.0</td>\n",
       "      <td>mastercard</td>\n",
       "      <td>102.0</td>\n",
       "      <td>...</td>\n",
       "      <td>0.0</td>\n",
       "      <td>2755404.0150.0mastercard102.0credit</td>\n",
       "      <td>235.020796</td>\n",
       "      <td>10.000</td>\n",
       "      <td>6085.230</td>\n",
       "      <td>115.0000</td>\n",
       "      <td>-206.020796</td>\n",
       "      <td>-86.0000</td>\n",
       "      <td>-0.876607</td>\n",
       "      <td>-0.747826</td>\n",
       "    </tr>\n",
       "    <tr>\n",
       "      <th>2</th>\n",
       "      <td>2987002</td>\n",
       "      <td>0</td>\n",
       "      <td>86469</td>\n",
       "      <td>59.000</td>\n",
       "      <td>W</td>\n",
       "      <td>4663</td>\n",
       "      <td>490.0</td>\n",
       "      <td>150.0</td>\n",
       "      <td>visa</td>\n",
       "      <td>166.0</td>\n",
       "      <td>...</td>\n",
       "      <td>0.0</td>\n",
       "      <td>4663490.0150.0visa166.0debit</td>\n",
       "      <td>96.791005</td>\n",
       "      <td>12.500</td>\n",
       "      <td>994.000</td>\n",
       "      <td>59.0000</td>\n",
       "      <td>-37.791005</td>\n",
       "      <td>0.0000</td>\n",
       "      <td>-0.390439</td>\n",
       "      <td>0.000000</td>\n",
       "    </tr>\n",
       "    <tr>\n",
       "      <th>3</th>\n",
       "      <td>2987003</td>\n",
       "      <td>0</td>\n",
       "      <td>86499</td>\n",
       "      <td>50.000</td>\n",
       "      <td>W</td>\n",
       "      <td>18132</td>\n",
       "      <td>567.0</td>\n",
       "      <td>150.0</td>\n",
       "      <td>mastercard</td>\n",
       "      <td>117.0</td>\n",
       "      <td>...</td>\n",
       "      <td>0.0</td>\n",
       "      <td>18132567.0150.0mastercard117.0debit</td>\n",
       "      <td>123.308485</td>\n",
       "      <td>6.000</td>\n",
       "      <td>3190.000</td>\n",
       "      <td>59.9500</td>\n",
       "      <td>-73.308485</td>\n",
       "      <td>-9.9500</td>\n",
       "      <td>-0.594513</td>\n",
       "      <td>-0.165972</td>\n",
       "    </tr>\n",
       "    <tr>\n",
       "      <th>4</th>\n",
       "      <td>2987004</td>\n",
       "      <td>0</td>\n",
       "      <td>86506</td>\n",
       "      <td>50.000</td>\n",
       "      <td>H</td>\n",
       "      <td>4497</td>\n",
       "      <td>514.0</td>\n",
       "      <td>150.0</td>\n",
       "      <td>mastercard</td>\n",
       "      <td>102.0</td>\n",
       "      <td>...</td>\n",
       "      <td>0.0</td>\n",
       "      <td>4497514.0150.0mastercard102.0credit</td>\n",
       "      <td>96.972222</td>\n",
       "      <td>20.950</td>\n",
       "      <td>200.000</td>\n",
       "      <td>108.9500</td>\n",
       "      <td>-46.972222</td>\n",
       "      <td>-58.9500</td>\n",
       "      <td>-0.484388</td>\n",
       "      <td>-0.541074</td>\n",
       "    </tr>\n",
       "    <tr>\n",
       "      <th>5</th>\n",
       "      <td>2987005</td>\n",
       "      <td>0</td>\n",
       "      <td>86510</td>\n",
       "      <td>49.000</td>\n",
       "      <td>W</td>\n",
       "      <td>5937</td>\n",
       "      <td>555.0</td>\n",
       "      <td>150.0</td>\n",
       "      <td>visa</td>\n",
       "      <td>226.0</td>\n",
       "      <td>...</td>\n",
       "      <td>0.0</td>\n",
       "      <td>5937555.0150.0visa226.0debit</td>\n",
       "      <td>134.071429</td>\n",
       "      <td>49.000</td>\n",
       "      <td>317.500</td>\n",
       "      <td>117.0000</td>\n",
       "      <td>-85.071429</td>\n",
       "      <td>-68.0000</td>\n",
       "      <td>-0.634523</td>\n",
       "      <td>-0.581197</td>\n",
       "    </tr>\n",
       "    <tr>\n",
       "      <th>6</th>\n",
       "      <td>2987006</td>\n",
       "      <td>0</td>\n",
       "      <td>86522</td>\n",
       "      <td>159.000</td>\n",
       "      <td>W</td>\n",
       "      <td>12308</td>\n",
       "      <td>360.0</td>\n",
       "      <td>150.0</td>\n",
       "      <td>visa</td>\n",
       "      <td>166.0</td>\n",
       "      <td>...</td>\n",
       "      <td>0.0</td>\n",
       "      <td>12308360.0150.0visa166.0debit</td>\n",
       "      <td>102.088252</td>\n",
       "      <td>12.500</td>\n",
       "      <td>2161.000</td>\n",
       "      <td>59.0000</td>\n",
       "      <td>56.911748</td>\n",
       "      <td>100.0000</td>\n",
       "      <td>0.557476</td>\n",
       "      <td>1.694915</td>\n",
       "    </tr>\n",
       "    <tr>\n",
       "      <th>7</th>\n",
       "      <td>2987007</td>\n",
       "      <td>0</td>\n",
       "      <td>86529</td>\n",
       "      <td>422.500</td>\n",
       "      <td>W</td>\n",
       "      <td>12695</td>\n",
       "      <td>490.0</td>\n",
       "      <td>150.0</td>\n",
       "      <td>visa</td>\n",
       "      <td>226.0</td>\n",
       "      <td>...</td>\n",
       "      <td>0.0</td>\n",
       "      <td>12695490.0150.0visa226.0debit</td>\n",
       "      <td>141.113203</td>\n",
       "      <td>7.970</td>\n",
       "      <td>4437.950</td>\n",
       "      <td>83.9500</td>\n",
       "      <td>281.386797</td>\n",
       "      <td>338.5500</td>\n",
       "      <td>1.994050</td>\n",
       "      <td>4.032758</td>\n",
       "    </tr>\n",
       "    <tr>\n",
       "      <th>8</th>\n",
       "      <td>2987008</td>\n",
       "      <td>0</td>\n",
       "      <td>86535</td>\n",
       "      <td>15.000</td>\n",
       "      <td>H</td>\n",
       "      <td>2803</td>\n",
       "      <td>100.0</td>\n",
       "      <td>150.0</td>\n",
       "      <td>visa</td>\n",
       "      <td>226.0</td>\n",
       "      <td>...</td>\n",
       "      <td>0.0</td>\n",
       "      <td>2803100.0150.0visa226.0debit</td>\n",
       "      <td>142.466391</td>\n",
       "      <td>4.970</td>\n",
       "      <td>3511.950</td>\n",
       "      <td>77.0000</td>\n",
       "      <td>-127.466391</td>\n",
       "      <td>-62.0000</td>\n",
       "      <td>-0.894712</td>\n",
       "      <td>-0.805195</td>\n",
       "    </tr>\n",
       "    <tr>\n",
       "      <th>9</th>\n",
       "      <td>2987009</td>\n",
       "      <td>0</td>\n",
       "      <td>86536</td>\n",
       "      <td>117.000</td>\n",
       "      <td>W</td>\n",
       "      <td>17399</td>\n",
       "      <td>111.0</td>\n",
       "      <td>150.0</td>\n",
       "      <td>mastercard</td>\n",
       "      <td>224.0</td>\n",
       "      <td>...</td>\n",
       "      <td>0.0</td>\n",
       "      <td>17399111.0150.0mastercard224.0debit</td>\n",
       "      <td>121.864231</td>\n",
       "      <td>4.795</td>\n",
       "      <td>2775.000</td>\n",
       "      <td>60.4750</td>\n",
       "      <td>-4.864231</td>\n",
       "      <td>56.5250</td>\n",
       "      <td>-0.039915</td>\n",
       "      <td>0.934684</td>\n",
       "    </tr>\n",
       "    <tr>\n",
       "      <th>10</th>\n",
       "      <td>2987010</td>\n",
       "      <td>0</td>\n",
       "      <td>86549</td>\n",
       "      <td>75.887</td>\n",
       "      <td>C</td>\n",
       "      <td>16496</td>\n",
       "      <td>352.0</td>\n",
       "      <td>117.0</td>\n",
       "      <td>mastercard</td>\n",
       "      <td>134.0</td>\n",
       "      <td>...</td>\n",
       "      <td>0.0</td>\n",
       "      <td>16496352.0117.0mastercard134.0credit</td>\n",
       "      <td>58.849000</td>\n",
       "      <td>28.217</td>\n",
       "      <td>89.782</td>\n",
       "      <td>58.6985</td>\n",
       "      <td>17.038000</td>\n",
       "      <td>17.1885</td>\n",
       "      <td>0.289521</td>\n",
       "      <td>0.292827</td>\n",
       "    </tr>\n",
       "    <tr>\n",
       "      <th>11</th>\n",
       "      <td>2987011</td>\n",
       "      <td>0</td>\n",
       "      <td>86555</td>\n",
       "      <td>16.495</td>\n",
       "      <td>C</td>\n",
       "      <td>4461</td>\n",
       "      <td>375.0</td>\n",
       "      <td>185.0</td>\n",
       "      <td>mastercard</td>\n",
       "      <td>224.0</td>\n",
       "      <td>...</td>\n",
       "      <td>0.0</td>\n",
       "      <td>4461375.0185.0mastercard224.0debit</td>\n",
       "      <td>40.016059</td>\n",
       "      <td>1.309</td>\n",
       "      <td>319.320</td>\n",
       "      <td>28.7865</td>\n",
       "      <td>-23.521059</td>\n",
       "      <td>-12.2915</td>\n",
       "      <td>-0.587790</td>\n",
       "      <td>-0.426988</td>\n",
       "    </tr>\n",
       "    <tr>\n",
       "      <th>12</th>\n",
       "      <td>2987012</td>\n",
       "      <td>0</td>\n",
       "      <td>86564</td>\n",
       "      <td>50.000</td>\n",
       "      <td>W</td>\n",
       "      <td>3786</td>\n",
       "      <td>418.0</td>\n",
       "      <td>150.0</td>\n",
       "      <td>visa</td>\n",
       "      <td>226.0</td>\n",
       "      <td>...</td>\n",
       "      <td>0.0</td>\n",
       "      <td>3786418.0150.0visa226.0debit</td>\n",
       "      <td>87.765919</td>\n",
       "      <td>10.000</td>\n",
       "      <td>774.000</td>\n",
       "      <td>59.0000</td>\n",
       "      <td>-37.765919</td>\n",
       "      <td>-9.0000</td>\n",
       "      <td>-0.430303</td>\n",
       "      <td>-0.152542</td>\n",
       "    </tr>\n",
       "    <tr>\n",
       "      <th>13</th>\n",
       "      <td>2987013</td>\n",
       "      <td>0</td>\n",
       "      <td>86585</td>\n",
       "      <td>40.000</td>\n",
       "      <td>W</td>\n",
       "      <td>12866</td>\n",
       "      <td>303.0</td>\n",
       "      <td>150.0</td>\n",
       "      <td>visa</td>\n",
       "      <td>226.0</td>\n",
       "      <td>...</td>\n",
       "      <td>0.0</td>\n",
       "      <td>12866303.0150.0visa226.0debit</td>\n",
       "      <td>109.616976</td>\n",
       "      <td>5.000</td>\n",
       "      <td>3183.000</td>\n",
       "      <td>59.0000</td>\n",
       "      <td>-69.616976</td>\n",
       "      <td>-19.0000</td>\n",
       "      <td>-0.635093</td>\n",
       "      <td>-0.322034</td>\n",
       "    </tr>\n",
       "    <tr>\n",
       "      <th>14</th>\n",
       "      <td>2987014</td>\n",
       "      <td>0</td>\n",
       "      <td>86596</td>\n",
       "      <td>10.500</td>\n",
       "      <td>W</td>\n",
       "      <td>11839</td>\n",
       "      <td>490.0</td>\n",
       "      <td>150.0</td>\n",
       "      <td>visa</td>\n",
       "      <td>226.0</td>\n",
       "      <td>...</td>\n",
       "      <td>0.0</td>\n",
       "      <td>11839490.0150.0visa226.0debit</td>\n",
       "      <td>129.818382</td>\n",
       "      <td>5.000</td>\n",
       "      <td>4577.700</td>\n",
       "      <td>75.0000</td>\n",
       "      <td>-119.318382</td>\n",
       "      <td>-64.5000</td>\n",
       "      <td>-0.919118</td>\n",
       "      <td>-0.860000</td>\n",
       "    </tr>\n",
       "    <tr>\n",
       "      <th>15</th>\n",
       "      <td>2987015</td>\n",
       "      <td>0</td>\n",
       "      <td>86618</td>\n",
       "      <td>57.950</td>\n",
       "      <td>W</td>\n",
       "      <td>7055</td>\n",
       "      <td>555.0</td>\n",
       "      <td>150.0</td>\n",
       "      <td>visa</td>\n",
       "      <td>226.0</td>\n",
       "      <td>...</td>\n",
       "      <td>0.0</td>\n",
       "      <td>7055555.0150.0visa226.0debit</td>\n",
       "      <td>66.762000</td>\n",
       "      <td>53.970</td>\n",
       "      <td>100.000</td>\n",
       "      <td>59.9500</td>\n",
       "      <td>-8.812000</td>\n",
       "      <td>-2.0000</td>\n",
       "      <td>-0.131991</td>\n",
       "      <td>-0.033361</td>\n",
       "    </tr>\n",
       "    <tr>\n",
       "      <th>16</th>\n",
       "      <td>2987016</td>\n",
       "      <td>0</td>\n",
       "      <td>86620</td>\n",
       "      <td>30.000</td>\n",
       "      <td>H</td>\n",
       "      <td>1790</td>\n",
       "      <td>555.0</td>\n",
       "      <td>150.0</td>\n",
       "      <td>visa</td>\n",
       "      <td>226.0</td>\n",
       "      <td>...</td>\n",
       "      <td>0.0</td>\n",
       "      <td>1790555.0150.0visa226.0debit</td>\n",
       "      <td>52.392105</td>\n",
       "      <td>15.950</td>\n",
       "      <td>108.500</td>\n",
       "      <td>47.9500</td>\n",
       "      <td>-22.392105</td>\n",
       "      <td>-17.9500</td>\n",
       "      <td>-0.427395</td>\n",
       "      <td>-0.374348</td>\n",
       "    </tr>\n",
       "    <tr>\n",
       "      <th>17</th>\n",
       "      <td>2987017</td>\n",
       "      <td>0</td>\n",
       "      <td>86668</td>\n",
       "      <td>100.000</td>\n",
       "      <td>H</td>\n",
       "      <td>11492</td>\n",
       "      <td>111.0</td>\n",
       "      <td>150.0</td>\n",
       "      <td>mastercard</td>\n",
       "      <td>219.0</td>\n",
       "      <td>...</td>\n",
       "      <td>0.0</td>\n",
       "      <td>11492111.0150.0mastercard219.0credit</td>\n",
       "      <td>169.590556</td>\n",
       "      <td>25.000</td>\n",
       "      <td>834.000</td>\n",
       "      <td>117.0000</td>\n",
       "      <td>-69.590556</td>\n",
       "      <td>-17.0000</td>\n",
       "      <td>-0.410345</td>\n",
       "      <td>-0.145299</td>\n",
       "    </tr>\n",
       "    <tr>\n",
       "      <th>18</th>\n",
       "      <td>2987018</td>\n",
       "      <td>0</td>\n",
       "      <td>86725</td>\n",
       "      <td>47.950</td>\n",
       "      <td>W</td>\n",
       "      <td>4663</td>\n",
       "      <td>490.0</td>\n",
       "      <td>150.0</td>\n",
       "      <td>visa</td>\n",
       "      <td>166.0</td>\n",
       "      <td>...</td>\n",
       "      <td>0.0</td>\n",
       "      <td>4663490.0150.0visa166.0debit</td>\n",
       "      <td>96.791005</td>\n",
       "      <td>12.500</td>\n",
       "      <td>994.000</td>\n",
       "      <td>59.0000</td>\n",
       "      <td>-48.841005</td>\n",
       "      <td>-11.0500</td>\n",
       "      <td>-0.504603</td>\n",
       "      <td>-0.187288</td>\n",
       "    </tr>\n",
       "    <tr>\n",
       "      <th>19</th>\n",
       "      <td>2987019</td>\n",
       "      <td>0</td>\n",
       "      <td>86730</td>\n",
       "      <td>186.000</td>\n",
       "      <td>W</td>\n",
       "      <td>7005</td>\n",
       "      <td>111.0</td>\n",
       "      <td>150.0</td>\n",
       "      <td>visa</td>\n",
       "      <td>226.0</td>\n",
       "      <td>...</td>\n",
       "      <td>0.0</td>\n",
       "      <td>7005111.0150.0visa226.0debit</td>\n",
       "      <td>108.196104</td>\n",
       "      <td>5.000</td>\n",
       "      <td>834.000</td>\n",
       "      <td>59.0000</td>\n",
       "      <td>77.803896</td>\n",
       "      <td>127.0000</td>\n",
       "      <td>0.719101</td>\n",
       "      <td>2.152542</td>\n",
       "    </tr>\n",
       "  </tbody>\n",
       "</table>\n",
       "<p>20 rows × 239 columns</p>\n",
       "</div>"
      ],
      "text/plain": [
       "    TransactionID  isFraud  TransactionDT  TransactionAmt ProductCD  card1  card2  card3       card4  card5  ... hours                                cardID        mean     min       max    median  \\\n",
       "0         2987000        0          86400          68.500         W  13926    NaN  150.0    discover  142.0  ...   0.0                                   NaN         NaN     NaN       NaN       NaN   \n",
       "1         2987001        0          86401          29.000         W   2755  404.0  150.0  mastercard  102.0  ...   0.0   2755404.0150.0mastercard102.0credit  235.020796  10.000  6085.230  115.0000   \n",
       "2         2987002        0          86469          59.000         W   4663  490.0  150.0        visa  166.0  ...   0.0          4663490.0150.0visa166.0debit   96.791005  12.500   994.000   59.0000   \n",
       "3         2987003        0          86499          50.000         W  18132  567.0  150.0  mastercard  117.0  ...   0.0   18132567.0150.0mastercard117.0debit  123.308485   6.000  3190.000   59.9500   \n",
       "4         2987004        0          86506          50.000         H   4497  514.0  150.0  mastercard  102.0  ...   0.0   4497514.0150.0mastercard102.0credit   96.972222  20.950   200.000  108.9500   \n",
       "5         2987005        0          86510          49.000         W   5937  555.0  150.0        visa  226.0  ...   0.0          5937555.0150.0visa226.0debit  134.071429  49.000   317.500  117.0000   \n",
       "6         2987006        0          86522         159.000         W  12308  360.0  150.0        visa  166.0  ...   0.0         12308360.0150.0visa166.0debit  102.088252  12.500  2161.000   59.0000   \n",
       "7         2987007        0          86529         422.500         W  12695  490.0  150.0        visa  226.0  ...   0.0         12695490.0150.0visa226.0debit  141.113203   7.970  4437.950   83.9500   \n",
       "8         2987008        0          86535          15.000         H   2803  100.0  150.0        visa  226.0  ...   0.0          2803100.0150.0visa226.0debit  142.466391   4.970  3511.950   77.0000   \n",
       "9         2987009        0          86536         117.000         W  17399  111.0  150.0  mastercard  224.0  ...   0.0   17399111.0150.0mastercard224.0debit  121.864231   4.795  2775.000   60.4750   \n",
       "10        2987010        0          86549          75.887         C  16496  352.0  117.0  mastercard  134.0  ...   0.0  16496352.0117.0mastercard134.0credit   58.849000  28.217    89.782   58.6985   \n",
       "11        2987011        0          86555          16.495         C   4461  375.0  185.0  mastercard  224.0  ...   0.0    4461375.0185.0mastercard224.0debit   40.016059   1.309   319.320   28.7865   \n",
       "12        2987012        0          86564          50.000         W   3786  418.0  150.0        visa  226.0  ...   0.0          3786418.0150.0visa226.0debit   87.765919  10.000   774.000   59.0000   \n",
       "13        2987013        0          86585          40.000         W  12866  303.0  150.0        visa  226.0  ...   0.0         12866303.0150.0visa226.0debit  109.616976   5.000  3183.000   59.0000   \n",
       "14        2987014        0          86596          10.500         W  11839  490.0  150.0        visa  226.0  ...   0.0         11839490.0150.0visa226.0debit  129.818382   5.000  4577.700   75.0000   \n",
       "15        2987015        0          86618          57.950         W   7055  555.0  150.0        visa  226.0  ...   0.0          7055555.0150.0visa226.0debit   66.762000  53.970   100.000   59.9500   \n",
       "16        2987016        0          86620          30.000         H   1790  555.0  150.0        visa  226.0  ...   0.0          1790555.0150.0visa226.0debit   52.392105  15.950   108.500   47.9500   \n",
       "17        2987017        0          86668         100.000         H  11492  111.0  150.0  mastercard  219.0  ...   0.0  11492111.0150.0mastercard219.0credit  169.590556  25.000   834.000  117.0000   \n",
       "18        2987018        0          86725          47.950         W   4663  490.0  150.0        visa  166.0  ...   0.0          4663490.0150.0visa166.0debit   96.791005  12.500   994.000   59.0000   \n",
       "19        2987019        0          86730         186.000         W   7005  111.0  150.0        visa  226.0  ...   0.0          7005111.0150.0visa226.0debit  108.196104   5.000   834.000   59.0000   \n",
       "\n",
       "     dist_mean  dist_median  dist_mean_rel  dist_median_rel  \n",
       "0          NaN          NaN            NaN              NaN  \n",
       "1  -206.020796     -86.0000      -0.876607        -0.747826  \n",
       "2   -37.791005       0.0000      -0.390439         0.000000  \n",
       "3   -73.308485      -9.9500      -0.594513        -0.165972  \n",
       "4   -46.972222     -58.9500      -0.484388        -0.541074  \n",
       "5   -85.071429     -68.0000      -0.634523        -0.581197  \n",
       "6    56.911748     100.0000       0.557476         1.694915  \n",
       "7   281.386797     338.5500       1.994050         4.032758  \n",
       "8  -127.466391     -62.0000      -0.894712        -0.805195  \n",
       "9    -4.864231      56.5250      -0.039915         0.934684  \n",
       "10   17.038000      17.1885       0.289521         0.292827  \n",
       "11  -23.521059     -12.2915      -0.587790        -0.426988  \n",
       "12  -37.765919      -9.0000      -0.430303        -0.152542  \n",
       "13  -69.616976     -19.0000      -0.635093        -0.322034  \n",
       "14 -119.318382     -64.5000      -0.919118        -0.860000  \n",
       "15   -8.812000      -2.0000      -0.131991        -0.033361  \n",
       "16  -22.392105     -17.9500      -0.427395        -0.374348  \n",
       "17  -69.590556     -17.0000      -0.410345        -0.145299  \n",
       "18  -48.841005     -11.0500      -0.504603        -0.187288  \n",
       "19   77.803896     127.0000       0.719101         2.152542  \n",
       "\n",
       "[20 rows x 239 columns]"
      ]
     },
     "execution_count": 38,
     "metadata": {},
     "output_type": "execute_result"
    }
   ],
   "source": [
    "data.head(20)"
   ]
  },
  {
   "cell_type": "markdown",
   "metadata": {},
   "source": [
    "# IMPORT "
   ]
  },
  {
   "cell_type": "code",
   "execution_count": 39,
   "metadata": {},
   "outputs": [],
   "source": [
    "from sklearn.preprocessing import OneHotEncoder \n",
    "from sklearn.compose import ColumnTransformer \n",
    "from sklearn.impute import SimpleImputer\n",
    "from sklearn.pipeline import Pipeline\n",
    "from sklearn.compose import ColumnTransformer\n",
    "from sklearn.linear_model import LassoCV\n",
    "from sklearn.pipeline import make_pipeline\n",
    "\n",
    "from sklearn.preprocessing import StandardScaler\n",
    "from sklearn.preprocessing import MinMaxScaler\n",
    "\n",
    "from sklearn.linear_model import LogisticRegression"
   ]
  },
  {
   "cell_type": "markdown",
   "metadata": {},
   "source": [
    "# IMPUTER AND ENCODING "
   ]
  },
  {
   "cell_type": "code",
   "execution_count": null,
   "metadata": {},
   "outputs": [],
   "source": []
  },
  {
   "cell_type": "code",
   "execution_count": 40,
   "metadata": {},
   "outputs": [],
   "source": [
    "X = data[['TransactionID','P_emaildomain_suffix','P_emaildomain_bin',\n",
    "'card1','card2','addr1','TransactionAmt','card5','D15','C13','D2','D10','D4','weekday','hours',\\\n",
    "           'dist_mean', 'dist_median','dist_mean_rel','dist_median_rel']]\n",
    "y = data['isFraud']\n",
    "\n"
   ]
  },
  {
   "cell_type": "code",
   "execution_count": 47,
   "metadata": {},
   "outputs": [],
   "source": [
    "from sklearn.model_selection import train_test_split\n",
    "X_train, X_test, y_train, y_test = train_test_split(X, y,test_size=0.3)"
   ]
  },
  {
   "cell_type": "code",
   "execution_count": 48,
   "metadata": {},
   "outputs": [],
   "source": [
    "n = (X.dtypes != 'object')\n",
    "num_cols = list(n[n].index)\n",
    "medium_missing_num_cols = []\n",
    "low_missing_num_cols =[]\n",
    "for i in num_cols:\n",
    "    percentage = data[i].isnull().sum() * 100 / len(data[i])\n",
    "    if percentage < 15:\n",
    "        low_missing_num_cols.append(i)\n",
    "    elif percentage >= 15 and percentage <= 60:\n",
    "        medium_missing_num_cols.append(i)"
   ]
  },
  {
   "cell_type": "code",
   "execution_count": 49,
   "metadata": {},
   "outputs": [],
   "source": [
    "num_transformer_low = Pipeline([\n",
    "    ('imputer', SimpleImputer(strategy='mean')),\n",
    "    ('scaler', StandardScaler())])\n",
    "num_transformer_medium = Pipeline([\n",
    "    ('imputer', SimpleImputer(strategy='median')),\n",
    "    ('scaler', StandardScaler())])\n",
    "\n",
    "#cat_transformer = Pipeline([\n",
    "    #'imputer', SimpleImputer(strategy='constant', fill_value = \"Unknown\")\n",
    "    #])\n",
    "\n",
    "cat_pipeline = Pipeline([\n",
    "    ('imputer', SimpleImputer(strategy='constant', fill_value='Unknown')),\n",
    "    ('one_hot', OneHotEncoder())\n",
    "])\n",
    "    \n",
    "preprocessor = ColumnTransformer([\n",
    "    ('low_num_imputer',num_transformer_low, low_missing_num_cols),\n",
    "    ('medium_num_imputer', num_transformer_medium, medium_missing_num_cols),\n",
    "    ('cat_transformer', cat_pipeline, ['P_emaildomain_suffix','P_emaildomain_bin','weekday','hours'])],\n",
    "    remainder='drop')\n",
    "\n"
   ]
  },
  {
   "cell_type": "code",
   "execution_count": null,
   "metadata": {},
   "outputs": [],
   "source": [
    "#kleineres dataset , 10% ; hyperparameters . mehr n_jobs (max 8), kann dann aber nichts machen"
   ]
  },
  {
   "cell_type": "code",
   "execution_count": 61,
   "metadata": {},
   "outputs": [
    {
     "data": {
      "text/plain": [
       "GridSearchCV(cv=5,\n",
       "             estimator=Pipeline(steps=[('preprocessor',\n",
       "                                        ColumnTransformer(transformers=[('low_num_imputer',\n",
       "                                                                         Pipeline(steps=[('imputer',\n",
       "                                                                                          SimpleImputer()),\n",
       "                                                                                         ('scaler',\n",
       "                                                                                          StandardScaler())]),\n",
       "                                                                         ['TransactionID',\n",
       "                                                                          'card1',\n",
       "                                                                          'card2',\n",
       "                                                                          'addr1',\n",
       "                                                                          'TransactionAmt',\n",
       "                                                                          'card5',\n",
       "                                                                          'C13',\n",
       "                                                                          'D10',\n",
       "                                                                          'weekday',\n",
       "                                                                          'hours',\n",
       "                                                                          'dist_mean',\n",
       "                                                                          'dist_median',\n",
       "                                                                          'dist_mean_rel',\n",
       "                                                                          'dist_median_rel']),\n",
       "                                                                        ('mediu...\n",
       "                                                                                          SimpleImputer(strategy='median')),\n",
       "                                                                                         ('scaler',\n",
       "                                                                                          StandardScaler())]),\n",
       "                                                                         ['D15',\n",
       "                                                                          'D2',\n",
       "                                                                          'D4']),\n",
       "                                                                        ('cat_transformer',\n",
       "                                                                         Pipeline(steps=[('imputer',\n",
       "                                                                                          SimpleImputer(fill_value='Unknown',\n",
       "                                                                                                        strategy='constant')),\n",
       "                                                                                         ('one_hot',\n",
       "                                                                                          OneHotEncoder())]),\n",
       "                                                                         ['P_emaildomain_suffix',\n",
       "                                                                          'P_emaildomain_bin',\n",
       "                                                                          'weekday',\n",
       "                                                                          'hours'])])),\n",
       "                                       ('classifier', SVC())]),\n",
       "             n_jobs=2, param_grid=[{'classifier__kernel': ['sigmoid']}],\n",
       "             scoring='recall')"
      ]
     },
     "execution_count": 61,
     "metadata": {},
     "output_type": "execute_result"
    }
   ],
   "source": [
    "from sklearn.model_selection import RandomizedSearchCV\n",
    "from scipy import stats\n",
    "from sklearn.svm import SVC\n",
    "from sklearn.model_selection import GridSearchCV\n",
    "# Instanciate model\n",
    "svc = SVC()\n",
    "pipeline_svc = Pipeline([\n",
    "    ('preprocessor', preprocessor),\n",
    "    ('classifier', svc),\n",
    "     ])\n",
    "param_grid = [{'classifier__kernel': ['rbf']\n",
    "             }]\n",
    "grid_search = GridSearchCV(pipeline_svc, param_grid,\n",
    "                           cv=5,\n",
    "                           n_jobs=2,\n",
    "                           verbose=0,\n",
    "                           scoring= \"recall\")\n",
    "grid_search.fit(X_train, y_train)"
   ]
  },
  {
   "cell_type": "code",
   "execution_count": 60,
   "metadata": {},
   "outputs": [
    {
     "data": {
      "text/plain": [
       "dict_keys(['memory', 'steps', 'verbose', 'preprocessor', 'classifier', 'preprocessor__n_jobs', 'preprocessor__remainder', 'preprocessor__sparse_threshold', 'preprocessor__transformer_weights', 'preprocessor__transformers', 'preprocessor__verbose', 'preprocessor__low_num_imputer', 'preprocessor__medium_num_imputer', 'preprocessor__cat_transformer', 'preprocessor__low_num_imputer__memory', 'preprocessor__low_num_imputer__steps', 'preprocessor__low_num_imputer__verbose', 'preprocessor__low_num_imputer__imputer', 'preprocessor__low_num_imputer__scaler', 'preprocessor__low_num_imputer__imputer__add_indicator', 'preprocessor__low_num_imputer__imputer__copy', 'preprocessor__low_num_imputer__imputer__fill_value', 'preprocessor__low_num_imputer__imputer__missing_values', 'preprocessor__low_num_imputer__imputer__strategy', 'preprocessor__low_num_imputer__imputer__verbose', 'preprocessor__low_num_imputer__scaler__copy', 'preprocessor__low_num_imputer__scaler__with_mean', 'preprocessor__low_num_imputer__scaler__with_std', 'preprocessor__medium_num_imputer__memory', 'preprocessor__medium_num_imputer__steps', 'preprocessor__medium_num_imputer__verbose', 'preprocessor__medium_num_imputer__imputer', 'preprocessor__medium_num_imputer__scaler', 'preprocessor__medium_num_imputer__imputer__add_indicator', 'preprocessor__medium_num_imputer__imputer__copy', 'preprocessor__medium_num_imputer__imputer__fill_value', 'preprocessor__medium_num_imputer__imputer__missing_values', 'preprocessor__medium_num_imputer__imputer__strategy', 'preprocessor__medium_num_imputer__imputer__verbose', 'preprocessor__medium_num_imputer__scaler__copy', 'preprocessor__medium_num_imputer__scaler__with_mean', 'preprocessor__medium_num_imputer__scaler__with_std', 'preprocessor__cat_transformer__memory', 'preprocessor__cat_transformer__steps', 'preprocessor__cat_transformer__verbose', 'preprocessor__cat_transformer__imputer', 'preprocessor__cat_transformer__one_hot', 'preprocessor__cat_transformer__imputer__add_indicator', 'preprocessor__cat_transformer__imputer__copy', 'preprocessor__cat_transformer__imputer__fill_value', 'preprocessor__cat_transformer__imputer__missing_values', 'preprocessor__cat_transformer__imputer__strategy', 'preprocessor__cat_transformer__imputer__verbose', 'preprocessor__cat_transformer__one_hot__categories', 'preprocessor__cat_transformer__one_hot__drop', 'preprocessor__cat_transformer__one_hot__dtype', 'preprocessor__cat_transformer__one_hot__handle_unknown', 'preprocessor__cat_transformer__one_hot__sparse', 'classifier__C', 'classifier__break_ties', 'classifier__cache_size', 'classifier__class_weight', 'classifier__coef0', 'classifier__decision_function_shape', 'classifier__degree', 'classifier__gamma', 'classifier__kernel', 'classifier__max_iter', 'classifier__probability', 'classifier__random_state', 'classifier__shrinking', 'classifier__tol', 'classifier__verbose'])"
      ]
     },
     "execution_count": 60,
     "metadata": {},
     "output_type": "execute_result"
    }
   ],
   "source": [
    "pipeline_svc.get_params().keys()"
   ]
  },
  {
   "cell_type": "code",
   "execution_count": 62,
   "metadata": {},
   "outputs": [
    {
     "data": {
      "text/plain": [
       "0.057091737150292775"
      ]
     },
     "execution_count": 62,
     "metadata": {},
     "output_type": "execute_result"
    }
   ],
   "source": [
    "grid_search.score(X_test, y_test)\n"
   ]
  },
  {
   "cell_type": "markdown",
   "metadata": {},
   "source": [
    "# RANDOM FOREST"
   ]
  },
  {
   "cell_type": "code",
   "execution_count": null,
   "metadata": {},
   "outputs": [],
   "source": [
    "clf = RandomForestClassifier(n_estimators=50, random_state=0)\n",
    "model = Pipeline([('preprocessor', preprocessor),\n",
    "                      ('classifier', clf)])\n",
    "\n",
    "model.fit(X_train, y_train)"
   ]
  },
  {
   "cell_type": "code",
   "execution_count": null,
   "metadata": {},
   "outputs": [],
   "source": [
    "y_pred = model.predict(X_test)"
   ]
  },
  {
   "cell_type": "code",
   "execution_count": null,
   "metadata": {},
   "outputs": [],
   "source": [
    "from sklearn.metrics import f1_score\n",
    "f1_score(y_test, y_pred, average='binary')"
   ]
  }
 ],
 "metadata": {
  "kernelspec": {
   "display_name": "Python 3",
   "language": "python",
   "name": "python3"
  },
  "language_info": {
   "codemirror_mode": {
    "name": "ipython",
    "version": 3
   },
   "file_extension": ".py",
   "mimetype": "text/x-python",
   "name": "python",
   "nbconvert_exporter": "python",
   "pygments_lexer": "ipython3",
   "version": "3.7.7"
  },
  "toc": {
   "base_numbering": 1,
   "nav_menu": {},
   "number_sections": true,
   "sideBar": true,
   "skip_h1_title": false,
   "title_cell": "Table of Contents",
   "title_sidebar": "Contents",
   "toc_cell": false,
   "toc_position": {},
   "toc_section_display": true,
   "toc_window_display": false
  }
 },
 "nbformat": 4,
 "nbformat_minor": 4
}
