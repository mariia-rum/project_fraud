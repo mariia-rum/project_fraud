{
 "cells": [
  {
   "cell_type": "code",
   "execution_count": 1,
   "metadata": {},
   "outputs": [],
   "source": [
    "from project_fraud.lib import drop_many_missing_values\n",
    "from project_fraud.feature_engineering import clean_mail, make_day_feature, make_hour_feature, string_card, credit_cards, dist_from_mean, dist_from_median_rel\n",
    "\n",
    "\n",
    "import pandas as pd\n",
    "import numpy as np\n",
    "import matplotlib.pyplot as plt\n",
    "from sklearn.preprocessing import LabelEncoder\n",
    "from sklearn.metrics import accuracy_score\n",
    "from sklearn.metrics import mean_squared_error, roc_auc_score\n",
    "from sklearn.model_selection import KFold\n",
    "from sklearn.model_selection import cross_val_score\n",
    "import seaborn as sns\n",
    "\n",
    "\n",
    "from sklearn.preprocessing import OneHotEncoder \n",
    "from sklearn.compose import ColumnTransformer \n",
    "from sklearn.impute import SimpleImputer\n",
    "from sklearn.pipeline import Pipeline\n",
    "from sklearn.compose import ColumnTransformer\n",
    "from sklearn.linear_model import LassoCV\n",
    "from sklearn.pipeline import make_pipeline\n",
    "\n",
    "from sklearn.preprocessing import StandardScaler\n",
    "from sklearn.preprocessing import MinMaxScaler\n",
    "\n",
    "from sklearn.linear_model import LogisticRegression"
   ]
  },
  {
   "cell_type": "code",
   "execution_count": 2,
   "metadata": {},
   "outputs": [],
   "source": [
    "# transform_raw_data"
   ]
  },
  {
   "cell_type": "code",
   "execution_count": 3,
   "metadata": {},
   "outputs": [],
   "source": [
    "def transform_raw_data():\n",
    "    data = drop_many_missing_values()\n",
    "    data['P_emaildomain_bin'], data['P_emaildomain_suffix'] = clean_mail(data)\n",
    "    data['weekday'] = make_day_feature(data, offset=0.58)\n",
    "    data['hours'] = make_hour_feature(data)\n",
    "    data['cardID'] = data.apply(lambda row: string_card(row), axis=1)\n",
    "    data = data.merge(credit_cards(data), how='left', on=\"cardID\")\n",
    "    data['dist_mean'] = data.apply(lambda row: dist_from_mean(row, 'mean'), axis=1)\n",
    "    data['dist_median'] = data.apply(lambda row: dist_from_mean(row, 'median'), axis=1)\n",
    "    data['dist_mean_rel'] = data.apply(lambda row: dist_from_median_rel(row, 'mean'), axis=1)\n",
    "    data['dist_median_rel'] = data.apply(lambda row: dist_from_median_rel(row, 'median'), axis=1)\n",
    "    return data"
   ]
  },
  {
   "cell_type": "code",
   "execution_count": 4,
   "metadata": {},
   "outputs": [],
   "source": [
    "data_transformed = transform_raw_data()"
   ]
  },
  {
   "cell_type": "code",
   "execution_count": 5,
   "metadata": {},
   "outputs": [
    {
     "data": {
      "text/html": [
       "<div>\n",
       "<style scoped>\n",
       "    .dataframe tbody tr th:only-of-type {\n",
       "        vertical-align: middle;\n",
       "    }\n",
       "\n",
       "    .dataframe tbody tr th {\n",
       "        vertical-align: top;\n",
       "    }\n",
       "\n",
       "    .dataframe thead th {\n",
       "        text-align: right;\n",
       "    }\n",
       "</style>\n",
       "<table border=\"1\" class=\"dataframe\">\n",
       "  <thead>\n",
       "    <tr style=\"text-align: right;\">\n",
       "      <th></th>\n",
       "      <th>TransactionID</th>\n",
       "      <th>isFraud</th>\n",
       "      <th>TransactionDT</th>\n",
       "      <th>TransactionAmt</th>\n",
       "      <th>ProductCD</th>\n",
       "      <th>card1</th>\n",
       "      <th>card2</th>\n",
       "      <th>card3</th>\n",
       "      <th>card4</th>\n",
       "      <th>card5</th>\n",
       "      <th>...</th>\n",
       "      <th>hours</th>\n",
       "      <th>cardID</th>\n",
       "      <th>mean</th>\n",
       "      <th>min</th>\n",
       "      <th>max</th>\n",
       "      <th>median</th>\n",
       "      <th>dist_mean</th>\n",
       "      <th>dist_median</th>\n",
       "      <th>dist_mean_rel</th>\n",
       "      <th>dist_median_rel</th>\n",
       "    </tr>\n",
       "  </thead>\n",
       "  <tbody>\n",
       "    <tr>\n",
       "      <th>0</th>\n",
       "      <td>2987000</td>\n",
       "      <td>0</td>\n",
       "      <td>86400</td>\n",
       "      <td>68.5</td>\n",
       "      <td>W</td>\n",
       "      <td>13926</td>\n",
       "      <td>NaN</td>\n",
       "      <td>150.0</td>\n",
       "      <td>discover</td>\n",
       "      <td>142.0</td>\n",
       "      <td>...</td>\n",
       "      <td>0.0</td>\n",
       "      <td>NaN</td>\n",
       "      <td>NaN</td>\n",
       "      <td>NaN</td>\n",
       "      <td>NaN</td>\n",
       "      <td>NaN</td>\n",
       "      <td>NaN</td>\n",
       "      <td>NaN</td>\n",
       "      <td>NaN</td>\n",
       "      <td>NaN</td>\n",
       "    </tr>\n",
       "    <tr>\n",
       "      <th>1</th>\n",
       "      <td>2987001</td>\n",
       "      <td>0</td>\n",
       "      <td>86401</td>\n",
       "      <td>29.0</td>\n",
       "      <td>W</td>\n",
       "      <td>2755</td>\n",
       "      <td>404.0</td>\n",
       "      <td>150.0</td>\n",
       "      <td>mastercard</td>\n",
       "      <td>102.0</td>\n",
       "      <td>...</td>\n",
       "      <td>0.0</td>\n",
       "      <td>2755404.0150.0mastercard102.0credit</td>\n",
       "      <td>235.020796</td>\n",
       "      <td>10.00</td>\n",
       "      <td>6085.23</td>\n",
       "      <td>115.00</td>\n",
       "      <td>-206.020796</td>\n",
       "      <td>-86.00</td>\n",
       "      <td>-0.876607</td>\n",
       "      <td>-0.747826</td>\n",
       "    </tr>\n",
       "    <tr>\n",
       "      <th>2</th>\n",
       "      <td>2987002</td>\n",
       "      <td>0</td>\n",
       "      <td>86469</td>\n",
       "      <td>59.0</td>\n",
       "      <td>W</td>\n",
       "      <td>4663</td>\n",
       "      <td>490.0</td>\n",
       "      <td>150.0</td>\n",
       "      <td>visa</td>\n",
       "      <td>166.0</td>\n",
       "      <td>...</td>\n",
       "      <td>0.0</td>\n",
       "      <td>4663490.0150.0visa166.0debit</td>\n",
       "      <td>96.791005</td>\n",
       "      <td>12.50</td>\n",
       "      <td>994.00</td>\n",
       "      <td>59.00</td>\n",
       "      <td>-37.791005</td>\n",
       "      <td>0.00</td>\n",
       "      <td>-0.390439</td>\n",
       "      <td>0.000000</td>\n",
       "    </tr>\n",
       "    <tr>\n",
       "      <th>3</th>\n",
       "      <td>2987003</td>\n",
       "      <td>0</td>\n",
       "      <td>86499</td>\n",
       "      <td>50.0</td>\n",
       "      <td>W</td>\n",
       "      <td>18132</td>\n",
       "      <td>567.0</td>\n",
       "      <td>150.0</td>\n",
       "      <td>mastercard</td>\n",
       "      <td>117.0</td>\n",
       "      <td>...</td>\n",
       "      <td>0.0</td>\n",
       "      <td>18132567.0150.0mastercard117.0debit</td>\n",
       "      <td>123.308485</td>\n",
       "      <td>6.00</td>\n",
       "      <td>3190.00</td>\n",
       "      <td>59.95</td>\n",
       "      <td>-73.308485</td>\n",
       "      <td>-9.95</td>\n",
       "      <td>-0.594513</td>\n",
       "      <td>-0.165972</td>\n",
       "    </tr>\n",
       "    <tr>\n",
       "      <th>4</th>\n",
       "      <td>2987004</td>\n",
       "      <td>0</td>\n",
       "      <td>86506</td>\n",
       "      <td>50.0</td>\n",
       "      <td>H</td>\n",
       "      <td>4497</td>\n",
       "      <td>514.0</td>\n",
       "      <td>150.0</td>\n",
       "      <td>mastercard</td>\n",
       "      <td>102.0</td>\n",
       "      <td>...</td>\n",
       "      <td>0.0</td>\n",
       "      <td>4497514.0150.0mastercard102.0credit</td>\n",
       "      <td>96.972222</td>\n",
       "      <td>20.95</td>\n",
       "      <td>200.00</td>\n",
       "      <td>108.95</td>\n",
       "      <td>-46.972222</td>\n",
       "      <td>-58.95</td>\n",
       "      <td>-0.484388</td>\n",
       "      <td>-0.541074</td>\n",
       "    </tr>\n",
       "  </tbody>\n",
       "</table>\n",
       "<p>5 rows × 239 columns</p>\n",
       "</div>"
      ],
      "text/plain": [
       "   TransactionID  isFraud  TransactionDT  TransactionAmt ProductCD  card1  card2  card3       card4  card5  ... hours                               cardID        mean    min      max  median  \\\n",
       "0        2987000        0          86400            68.5         W  13926    NaN  150.0    discover  142.0  ...   0.0                                  NaN         NaN    NaN      NaN     NaN   \n",
       "1        2987001        0          86401            29.0         W   2755  404.0  150.0  mastercard  102.0  ...   0.0  2755404.0150.0mastercard102.0credit  235.020796  10.00  6085.23  115.00   \n",
       "2        2987002        0          86469            59.0         W   4663  490.0  150.0        visa  166.0  ...   0.0         4663490.0150.0visa166.0debit   96.791005  12.50   994.00   59.00   \n",
       "3        2987003        0          86499            50.0         W  18132  567.0  150.0  mastercard  117.0  ...   0.0  18132567.0150.0mastercard117.0debit  123.308485   6.00  3190.00   59.95   \n",
       "4        2987004        0          86506            50.0         H   4497  514.0  150.0  mastercard  102.0  ...   0.0  4497514.0150.0mastercard102.0credit   96.972222  20.95   200.00  108.95   \n",
       "\n",
       "    dist_mean  dist_median  dist_mean_rel  dist_median_rel  \n",
       "0         NaN          NaN            NaN              NaN  \n",
       "1 -206.020796       -86.00      -0.876607        -0.747826  \n",
       "2  -37.791005         0.00      -0.390439         0.000000  \n",
       "3  -73.308485        -9.95      -0.594513        -0.165972  \n",
       "4  -46.972222       -58.95      -0.484388        -0.541074  \n",
       "\n",
       "[5 rows x 239 columns]"
      ]
     },
     "execution_count": 5,
     "metadata": {},
     "output_type": "execute_result"
    }
   ],
   "source": [
    "data_transformed.head()"
   ]
  },
  {
   "cell_type": "code",
   "execution_count": 6,
   "metadata": {},
   "outputs": [],
   "source": [
    "def clean_mail_suffix(P_emaildomain_suffix):\n",
    "    if P_emaildomain_suffix == 'nan':\n",
    "        return np.nan\n",
    "    else:\n",
    "        return P_emaildomain_suffix"
   ]
  },
  {
   "cell_type": "code",
   "execution_count": 7,
   "metadata": {},
   "outputs": [],
   "source": [
    "data_transformed['P_emaildomain_suffix'] = data_transformed['P_emaildomain_suffix'].apply(lambda x: clean_mail_suffix(x))"
   ]
  },
  {
   "cell_type": "code",
   "execution_count": 8,
   "metadata": {},
   "outputs": [],
   "source": [
    "# Pipeline"
   ]
  },
  {
   "cell_type": "code",
   "execution_count": 9,
   "metadata": {},
   "outputs": [],
   "source": [
    "X = data_transformed[['TransactionID','P_emaildomain_suffix','P_emaildomain_bin',\n",
    "'card1','card2','addr1','TransactionAmt','card5','D15','C13','D2','D10','D4','weekday','hours',\\\n",
    "           'dist_mean', 'dist_median','dist_mean_rel','dist_median_rel']]\n",
    "y = data_transformed['isFraud']"
   ]
  },
  {
   "cell_type": "code",
   "execution_count": 14,
   "metadata": {},
   "outputs": [],
   "source": [
    "from sklearn.model_selection import train_test_split\n",
    "\n",
    "X_train, X_test, y_train, y_test = train_test_split(X, y, test_size=0.20, random_state=1)\n",
    "\n",
    "X_test_1, X_val, y_test_1, y_val = train_test_split(X_test, y_test, test_size=0.00017, random_state=1)"
   ]
  },
  {
   "cell_type": "code",
   "execution_count": 15,
   "metadata": {},
   "outputs": [
    {
     "data": {
      "text/html": [
       "<div>\n",
       "<style scoped>\n",
       "    .dataframe tbody tr th:only-of-type {\n",
       "        vertical-align: middle;\n",
       "    }\n",
       "\n",
       "    .dataframe tbody tr th {\n",
       "        vertical-align: top;\n",
       "    }\n",
       "\n",
       "    .dataframe thead th {\n",
       "        text-align: right;\n",
       "    }\n",
       "</style>\n",
       "<table border=\"1\" class=\"dataframe\">\n",
       "  <thead>\n",
       "    <tr style=\"text-align: right;\">\n",
       "      <th></th>\n",
       "      <th>TransactionID</th>\n",
       "      <th>P_emaildomain_suffix</th>\n",
       "      <th>P_emaildomain_bin</th>\n",
       "      <th>card1</th>\n",
       "      <th>card2</th>\n",
       "      <th>addr1</th>\n",
       "      <th>TransactionAmt</th>\n",
       "      <th>card5</th>\n",
       "      <th>D15</th>\n",
       "      <th>C13</th>\n",
       "      <th>D2</th>\n",
       "      <th>D10</th>\n",
       "      <th>D4</th>\n",
       "      <th>weekday</th>\n",
       "      <th>hours</th>\n",
       "      <th>dist_mean</th>\n",
       "      <th>dist_median</th>\n",
       "      <th>dist_mean_rel</th>\n",
       "      <th>dist_median_rel</th>\n",
       "    </tr>\n",
       "  </thead>\n",
       "  <tbody>\n",
       "    <tr>\n",
       "      <th>27047</th>\n",
       "      <td>3014047</td>\n",
       "      <td>com</td>\n",
       "      <td>apple</td>\n",
       "      <td>17188</td>\n",
       "      <td>321.0</td>\n",
       "      <td>299.0</td>\n",
       "      <td>34.50</td>\n",
       "      <td>226.0</td>\n",
       "      <td>377.0</td>\n",
       "      <td>8.0</td>\n",
       "      <td>226.0</td>\n",
       "      <td>377.0</td>\n",
       "      <td>377.0</td>\n",
       "      <td>0.0</td>\n",
       "      <td>21.0</td>\n",
       "      <td>-95.024776</td>\n",
       "      <td>-48.45</td>\n",
       "      <td>-0.733642</td>\n",
       "      <td>-0.584087</td>\n",
       "    </tr>\n",
       "    <tr>\n",
       "      <th>94624</th>\n",
       "      <td>3081624</td>\n",
       "      <td>com</td>\n",
       "      <td>yahoo</td>\n",
       "      <td>16783</td>\n",
       "      <td>282.0</td>\n",
       "      <td>428.0</td>\n",
       "      <td>171.00</td>\n",
       "      <td>226.0</td>\n",
       "      <td>265.0</td>\n",
       "      <td>18.0</td>\n",
       "      <td>NaN</td>\n",
       "      <td>265.0</td>\n",
       "      <td>328.0</td>\n",
       "      <td>1.0</td>\n",
       "      <td>15.0</td>\n",
       "      <td>-26.136727</td>\n",
       "      <td>54.00</td>\n",
       "      <td>-0.132582</td>\n",
       "      <td>0.461538</td>\n",
       "    </tr>\n",
       "    <tr>\n",
       "      <th>502930</th>\n",
       "      <td>3489930</td>\n",
       "      <td>com</td>\n",
       "      <td>microsoft</td>\n",
       "      <td>17404</td>\n",
       "      <td>581.0</td>\n",
       "      <td>325.0</td>\n",
       "      <td>129.95</td>\n",
       "      <td>226.0</td>\n",
       "      <td>619.0</td>\n",
       "      <td>3.0</td>\n",
       "      <td>530.0</td>\n",
       "      <td>619.0</td>\n",
       "      <td>489.0</td>\n",
       "      <td>5.0</td>\n",
       "      <td>15.0</td>\n",
       "      <td>-25.624182</td>\n",
       "      <td>32.00</td>\n",
       "      <td>-0.164707</td>\n",
       "      <td>0.326697</td>\n",
       "    </tr>\n",
       "    <tr>\n",
       "      <th>369483</th>\n",
       "      <td>3356483</td>\n",
       "      <td>com</td>\n",
       "      <td>google</td>\n",
       "      <td>16691</td>\n",
       "      <td>170.0</td>\n",
       "      <td>315.0</td>\n",
       "      <td>49.00</td>\n",
       "      <td>102.0</td>\n",
       "      <td>0.0</td>\n",
       "      <td>1.0</td>\n",
       "      <td>NaN</td>\n",
       "      <td>0.0</td>\n",
       "      <td>0.0</td>\n",
       "      <td>1.0</td>\n",
       "      <td>11.0</td>\n",
       "      <td>-109.738758</td>\n",
       "      <td>-43.00</td>\n",
       "      <td>-0.691317</td>\n",
       "      <td>-0.467391</td>\n",
       "    </tr>\n",
       "    <tr>\n",
       "      <th>26770</th>\n",
       "      <td>3013770</td>\n",
       "      <td>com</td>\n",
       "      <td>google</td>\n",
       "      <td>16116</td>\n",
       "      <td>568.0</td>\n",
       "      <td>325.0</td>\n",
       "      <td>34.00</td>\n",
       "      <td>226.0</td>\n",
       "      <td>0.0</td>\n",
       "      <td>1.0</td>\n",
       "      <td>NaN</td>\n",
       "      <td>0.0</td>\n",
       "      <td>0.0</td>\n",
       "      <td>0.0</td>\n",
       "      <td>20.0</td>\n",
       "      <td>-85.440484</td>\n",
       "      <td>-25.00</td>\n",
       "      <td>-0.715339</td>\n",
       "      <td>-0.423729</td>\n",
       "    </tr>\n",
       "  </tbody>\n",
       "</table>\n",
       "</div>"
      ],
      "text/plain": [
       "        TransactionID P_emaildomain_suffix P_emaildomain_bin  card1  card2  addr1  TransactionAmt  card5    D15   C13     D2    D10     D4  weekday  hours   dist_mean  dist_median  dist_mean_rel  \\\n",
       "27047         3014047                  com             apple  17188  321.0  299.0           34.50  226.0  377.0   8.0  226.0  377.0  377.0      0.0   21.0  -95.024776       -48.45      -0.733642   \n",
       "94624         3081624                  com             yahoo  16783  282.0  428.0          171.00  226.0  265.0  18.0    NaN  265.0  328.0      1.0   15.0  -26.136727        54.00      -0.132582   \n",
       "502930        3489930                  com         microsoft  17404  581.0  325.0          129.95  226.0  619.0   3.0  530.0  619.0  489.0      5.0   15.0  -25.624182        32.00      -0.164707   \n",
       "369483        3356483                  com            google  16691  170.0  315.0           49.00  102.0    0.0   1.0    NaN    0.0    0.0      1.0   11.0 -109.738758       -43.00      -0.691317   \n",
       "26770         3013770                  com            google  16116  568.0  325.0           34.00  226.0    0.0   1.0    NaN    0.0    0.0      0.0   20.0  -85.440484       -25.00      -0.715339   \n",
       "\n",
       "        dist_median_rel  \n",
       "27047         -0.584087  \n",
       "94624          0.461538  \n",
       "502930         0.326697  \n",
       "369483        -0.467391  \n",
       "26770         -0.423729  "
      ]
     },
     "execution_count": 15,
     "metadata": {},
     "output_type": "execute_result"
    }
   ],
   "source": [
    "X_val.head()"
   ]
  },
  {
   "cell_type": "code",
   "execution_count": 16,
   "metadata": {},
   "outputs": [
    {
     "data": {
      "text/plain": [
       "dtype('float64')"
      ]
     },
     "execution_count": 16,
     "metadata": {},
     "output_type": "execute_result"
    }
   ],
   "source": [
    "X_val.weekday.dtype"
   ]
  },
  {
   "cell_type": "code",
   "execution_count": 22,
   "metadata": {},
   "outputs": [
    {
     "data": {
      "text/plain": [
       "1.0    98920\n",
       "0.0    86311\n",
       "4.0    86283\n",
       "6.0    85434\n",
       "5.0    83596\n",
       "2.0    75438\n",
       "3.0    74558\n",
       "Name: weekday, dtype: int64"
      ]
     },
     "execution_count": 22,
     "metadata": {},
     "output_type": "execute_result"
    }
   ],
   "source": [
    "data_transformed.weekday.value_counts()"
   ]
  },
  {
   "cell_type": "code",
   "execution_count": 19,
   "metadata": {},
   "outputs": [],
   "source": [
    "def deencode_weekdays(weekday): \n",
    "    if weekday == 0.0: \n",
    "        return 'Monday'\n",
    "    elif weekday == 1.0: \n",
    "        return 'Tuesday'\n",
    "    elif weekday == 2.0: \n",
    "        return 'Wednesday'\n",
    "    elif weekday == 3.0: \n",
    "        return 'Thursday'\n",
    "    elif weekday == 4.0: \n",
    "        return 'Friday'\n",
    "    elif weekday == 5.0: \n",
    "        return 'Saturday'\n",
    "    elif weekday == 6.0: \n",
    "        return 'Sunday'"
   ]
  },
  {
   "cell_type": "code",
   "execution_count": 23,
   "metadata": {},
   "outputs": [],
   "source": [
    "data_transformed[\"weekday\"] = data_transformed[\"weekday\"].apply(lambda x: deencode_weekdays(x))"
   ]
  },
  {
   "cell_type": "code",
   "execution_count": null,
   "metadata": {},
   "outputs": [],
   "source": []
  },
  {
   "cell_type": "code",
   "execution_count": null,
   "metadata": {},
   "outputs": [],
   "source": []
  },
  {
   "cell_type": "code",
   "execution_count": null,
   "metadata": {},
   "outputs": [],
   "source": []
  },
  {
   "cell_type": "code",
   "execution_count": null,
   "metadata": {},
   "outputs": [],
   "source": [
    "# X_val.to_csv('val_data.csv', index =False, na_rep='nan')"
   ]
  },
  {
   "cell_type": "code",
   "execution_count": 29,
   "metadata": {},
   "outputs": [],
   "source": [
    "n = (X.dtypes != 'object')\n",
    "num_cols = list(n[n].index)\n",
    "medium_missing_num_cols = []\n",
    "low_missing_num_cols =[]\n",
    "for i in num_cols:\n",
    "    percentage = data_transformed[i].isnull().sum() * 100 / len(data_transformed[i])\n",
    "    if percentage < 15:\n",
    "        low_missing_num_cols.append(i)\n",
    "    elif percentage >= 15 and percentage <= 60:\n",
    "        medium_missing_num_cols.append(i)"
   ]
  },
  {
   "cell_type": "code",
   "execution_count": 30,
   "metadata": {},
   "outputs": [],
   "source": [
    "# trainer.py\n",
    "\n",
    "num_transformer_low = Pipeline([\n",
    "    ('imputer', SimpleImputer(strategy='mean')),\n",
    "    ('scaler', StandardScaler())])\n",
    "num_transformer_medium = Pipeline([\n",
    "    ('imputer', SimpleImputer(strategy='median')),\n",
    "    ('scaler', StandardScaler())])\n",
    "\n",
    "cat_pipeline = Pipeline([\n",
    "    ('imputer', SimpleImputer(strategy='constant', fill_value='Unknown')),\n",
    "    ('one_hot', OneHotEncoder())\n",
    "])\n",
    "    \n",
    "preprocessor = ColumnTransformer([\n",
    "    ('low_num_imputer',num_transformer_low, low_missing_num_cols),\n",
    "    ('medium_num_imputer', num_transformer_medium, medium_missing_num_cols),\n",
    "    ('cat_transformer', cat_pipeline, ['P_emaildomain_suffix','P_emaildomain_bin','weekday','hours'])],\n",
    "    remainder='drop')"
   ]
  },
  {
   "cell_type": "code",
   "execution_count": 31,
   "metadata": {},
   "outputs": [],
   "source": [
    "final_pipe = Pipeline([\n",
    "    ('preprocessing', preprocessor),\n",
    "    ('log_reg', LogisticRegression(class_weight ='balanced'))])"
   ]
  },
  {
   "cell_type": "code",
   "execution_count": 32,
   "metadata": {},
   "outputs": [
    {
     "name": "stderr",
     "output_type": "stream",
     "text": [
      "c:\\users\\anton\\.venvs\\project_fraud\\lib\\site-packages\\sklearn\\linear_model\\_logistic.py:764: ConvergenceWarning: lbfgs failed to converge (status=1):\n",
      "STOP: TOTAL NO. of ITERATIONS REACHED LIMIT.\n",
      "\n",
      "Increase the number of iterations (max_iter) or scale the data as shown in:\n",
      "    https://scikit-learn.org/stable/modules/preprocessing.html\n",
      "Please also refer to the documentation for alternative solver options:\n",
      "    https://scikit-learn.org/stable/modules/linear_model.html#logistic-regression\n",
      "  extra_warning_msg=_LOGISTIC_SOLVER_CONVERGENCE_MSG)\n"
     ]
    },
    {
     "data": {
      "text/plain": [
       "Pipeline(steps=[('preprocessing',\n",
       "                 ColumnTransformer(transformers=[('low_num_imputer',\n",
       "                                                  Pipeline(steps=[('imputer',\n",
       "                                                                   SimpleImputer()),\n",
       "                                                                  ('scaler',\n",
       "                                                                   StandardScaler())]),\n",
       "                                                  ['TransactionID', 'card1',\n",
       "                                                   'card2', 'addr1',\n",
       "                                                   'TransactionAmt', 'card5',\n",
       "                                                   'C13', 'D10', 'weekday',\n",
       "                                                   'hours', 'dist_mean',\n",
       "                                                   'dist_median',\n",
       "                                                   'dist_mean_rel',\n",
       "                                                   'dist_median_rel']),\n",
       "                                                 ('medium_num_imputer',\n",
       "                                                  Pipeline(ste...'imputer',\n",
       "                                                                   SimpleImputer(strategy='median')),\n",
       "                                                                  ('scaler',\n",
       "                                                                   StandardScaler())]),\n",
       "                                                  ['D15', 'D2', 'D4']),\n",
       "                                                 ('cat_transformer',\n",
       "                                                  Pipeline(steps=[('imputer',\n",
       "                                                                   SimpleImputer(fill_value='Unknown',\n",
       "                                                                                 strategy='constant')),\n",
       "                                                                  ('one_hot',\n",
       "                                                                   OneHotEncoder())]),\n",
       "                                                  ['P_emaildomain_suffix',\n",
       "                                                   'P_emaildomain_bin',\n",
       "                                                   'weekday', 'hours'])])),\n",
       "                ('log_reg', LogisticRegression(class_weight='balanced'))])"
      ]
     },
     "execution_count": 32,
     "metadata": {},
     "output_type": "execute_result"
    }
   ],
   "source": [
    "final_pipe.fit(X_train, y_train)"
   ]
  },
  {
   "cell_type": "code",
   "execution_count": 35,
   "metadata": {},
   "outputs": [
    {
     "data": {
      "text/plain": [
       "array([[0.83002962, 0.16997038],\n",
       "       [0.78733719, 0.21266281],\n",
       "       [0.89997011, 0.10002989],\n",
       "       [0.34797592, 0.65202408],\n",
       "       [0.49763948, 0.50236052],\n",
       "       [0.51976139, 0.48023861],\n",
       "       [0.55619135, 0.44380865],\n",
       "       [0.29783554, 0.70216446],\n",
       "       [0.3975169 , 0.6024831 ],\n",
       "       [0.60374048, 0.39625952],\n",
       "       [0.68144932, 0.31855068],\n",
       "       [0.57942404, 0.42057596],\n",
       "       [0.70104943, 0.29895057],\n",
       "       [0.61464992, 0.38535008],\n",
       "       [0.43895775, 0.56104225],\n",
       "       [0.64251269, 0.35748731],\n",
       "       [0.54086215, 0.45913785],\n",
       "       [0.69699872, 0.30300128],\n",
       "       [0.48795435, 0.51204565],\n",
       "       [0.50314941, 0.49685059],\n",
       "       [0.24680481, 0.75319519]])"
      ]
     },
     "execution_count": 35,
     "metadata": {},
     "output_type": "execute_result"
    }
   ],
   "source": [
    "final_pipe.predict_proba(X_val)"
   ]
  },
  {
   "cell_type": "code",
   "execution_count": null,
   "metadata": {},
   "outputs": [],
   "source": []
  },
  {
   "cell_type": "code",
   "execution_count": null,
   "metadata": {},
   "outputs": [],
   "source": []
  },
  {
   "cell_type": "code",
   "execution_count": null,
   "metadata": {},
   "outputs": [],
   "source": []
  },
  {
   "cell_type": "code",
   "execution_count": 56,
   "metadata": {},
   "outputs": [],
   "source": [
    "import pickle\n",
    "\n",
    "# Export pipeline as pickle file\n",
    "with open(\"pipeline_8.pkl\", \"wb\") as file:\n",
    "    pickle.dump(final_pipe, file)"
   ]
  }
 ],
 "metadata": {
  "kernelspec": {
   "display_name": "Python 3",
   "language": "python",
   "name": "python3"
  },
  "language_info": {
   "codemirror_mode": {
    "name": "ipython",
    "version": 3
   },
   "file_extension": ".py",
   "mimetype": "text/x-python",
   "name": "python",
   "nbconvert_exporter": "python",
   "pygments_lexer": "ipython3",
   "version": "3.7.7"
  },
  "latex_envs": {
   "LaTeX_envs_menu_present": true,
   "autoclose": false,
   "autocomplete": true,
   "bibliofile": "biblio.bib",
   "cite_by": "apalike",
   "current_citInitial": 1,
   "eqLabelWithNumbers": true,
   "eqNumInitial": 1,
   "hotkeys": {
    "equation": "Ctrl-E",
    "itemize": "Ctrl-I"
   },
   "labels_anchors": false,
   "latex_user_defs": false,
   "report_style_numbering": false,
   "user_envs_cfg": false
  },
  "toc": {
   "base_numbering": 1,
   "nav_menu": {},
   "number_sections": true,
   "sideBar": true,
   "skip_h1_title": false,
   "title_cell": "Table of Contents",
   "title_sidebar": "Contents",
   "toc_cell": false,
   "toc_position": {},
   "toc_section_display": true,
   "toc_window_display": false
  }
 },
 "nbformat": 4,
 "nbformat_minor": 4
}
