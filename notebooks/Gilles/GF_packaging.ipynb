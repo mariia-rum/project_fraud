{
 "cells": [
  {
   "cell_type": "code",
   "execution_count": 1,
   "metadata": {},
   "outputs": [],
   "source": [
    "import pandas as pd\n",
    "import numpy as np\n",
    "import matplotlib.pyplot as plt\n",
    "from sklearn.preprocessing import LabelEncoder\n",
    "from sklearn.metrics import accuracy_score\n",
    "from sklearn.metrics import mean_squared_error, roc_auc_score\n",
    "from sklearn.model_selection import KFold\n",
    "from sklearn.model_selection import cross_val_score\n",
    "import seaborn as sns\n",
    "\n",
    "\n",
    "from sklearn.preprocessing import OneHotEncoder \n",
    "from sklearn.compose import ColumnTransformer \n",
    "from sklearn.impute import SimpleImputer\n",
    "from sklearn.pipeline import Pipeline\n",
    "from sklearn.compose import ColumnTransformer\n",
    "from sklearn.linear_model import LassoCV\n",
    "from sklearn.pipeline import make_pipeline\n",
    "\n",
    "from sklearn.preprocessing import StandardScaler\n",
    "from sklearn.preprocessing import MinMaxScaler\n",
    "\n",
    "from sklearn.linear_model import LogisticRegression"
   ]
  },
  {
   "cell_type": "code",
   "execution_count": 2,
   "metadata": {},
   "outputs": [],
   "source": [
    "from project_fraud.lib import drop_many_missing_values"
   ]
  },
  {
   "cell_type": "markdown",
   "metadata": {},
   "source": [
    "data = drop_many_missing_values()"
   ]
  },
  {
   "cell_type": "markdown",
   "metadata": {},
   "source": [
    "# FEATURES "
   ]
  },
  {
   "cell_type": "markdown",
   "metadata": {},
   "source": [
    "# Convert mail column"
   ]
  },
  {
   "cell_type": "code",
   "execution_count": 3,
   "metadata": {},
   "outputs": [],
   "source": [
    "#data.py\n",
    "\n",
    "def clean_mail(data):\n",
    "    emails = {'gmail': 'google', 'att.net': 'att', 'twc.com': 'spectrum', \n",
    "          'scranton.edu': 'other', 'optonline.net': 'other', 'hotmail.co.uk': 'microsoft',\n",
    "          'comcast.net': 'other', 'yahoo.com.mx': 'yahoo', 'yahoo.fr': 'yahoo',\n",
    "          'yahoo.es': 'yahoo', 'charter.net': 'spectrum', 'live.com': 'microsoft', \n",
    "          'aim.com': 'aol', 'hotmail.de': 'microsoft', 'centurylink.net': 'centurylink',\n",
    "          'gmail.com': 'google', 'me.com': 'apple', 'earthlink.net': 'other', 'gmx.de': 'other',\n",
    "          'web.de': 'other', 'cfl.rr.com': 'other', 'hotmail.com': 'microsoft', \n",
    "          'protonmail.com': 'other', 'hotmail.fr': 'microsoft', 'windstream.net': 'other', \n",
    "          'outlook.es': 'microsoft', 'yahoo.co.jp': 'yahoo', 'yahoo.de': 'yahoo',\n",
    "          'servicios-ta.com': 'other', 'netzero.net': 'other', 'suddenlink.net': 'other',\n",
    "          'roadrunner.com': 'other', 'sc.rr.com': 'other', 'live.fr': 'microsoft',\n",
    "          'verizon.net': 'yahoo', 'msn.com': 'microsoft', 'q.com': 'centurylink', \n",
    "          'prodigy.net.mx': 'att', 'frontier.com': 'yahoo', 'anonymous.com': 'other', \n",
    "          'rocketmail.com': 'yahoo', 'sbcglobal.net': 'att', 'frontiernet.net': 'yahoo', \n",
    "          'ymail.com': 'yahoo', 'outlook.com': 'microsoft', 'mail.com': 'other', \n",
    "          'bellsouth.net': 'other', 'embarqmail.com': 'centurylink', 'cableone.net': 'other', \n",
    "          'hotmail.es': 'microsoft', 'mac.com': 'apple', 'yahoo.co.uk': 'yahoo', 'netzero.com': 'other', \n",
    "          'yahoo.com': 'yahoo', 'live.com.mx': 'microsoft', 'ptd.net': 'other', 'cox.net': 'other',\n",
    "          'aol.com': 'aol', 'juno.com': 'other', 'icloud.com': 'apple'}\n",
    "    \n",
    "    for c in ['P_emaildomain']:\n",
    "        data[c + '_bin'] = data[c].map(emails)\n",
    "        data[c + '_suffix'] = data[c].map(lambda x: str(x).split('.')[-1])\n",
    "    \n",
    "    return data[c + '_bin'], data[c + '_suffix']"
   ]
  },
  {
   "cell_type": "markdown",
   "metadata": {},
   "source": [
    "data['P_emaildomain_bin'], data['P_emaildomain_suffix'] = clean_mail(data)"
   ]
  },
  {
   "cell_type": "markdown",
   "metadata": {},
   "source": [
    "# New feature: day of the week"
   ]
  },
  {
   "cell_type": "code",
   "execution_count": 4,
   "metadata": {},
   "outputs": [],
   "source": [
    "# utils.py\n",
    "\n",
    "def make_day_feature(data, offset=0, column_name='TransactionDT'):\n",
    "\n",
    "    days = data[column_name] / (3600*24)        \n",
    "    encoded_days = np.floor(days-1+offset) % 7\n",
    "    return encoded_days"
   ]
  },
  {
   "cell_type": "markdown",
   "metadata": {},
   "source": [
    "#encoders.py   ---> data_preparation.py\n",
    "\n",
    "data['weekday'] = make_day_feature(data, offset=0.58)"
   ]
  },
  {
   "cell_type": "markdown",
   "metadata": {},
   "source": [
    "# New feature: hour of the day"
   ]
  },
  {
   "cell_type": "code",
   "execution_count": 5,
   "metadata": {},
   "outputs": [],
   "source": [
    "# utils.py\n",
    "def make_hour_feature(data, column_name='TransactionDT'):\n",
    "\n",
    "    hours = data[column_name] / (3600)        \n",
    "    encoded_hours = np.floor(hours) % 24\n",
    "    return encoded_hours"
   ]
  },
  {
   "cell_type": "markdown",
   "metadata": {},
   "source": [
    "#encoders.py\n",
    "\n",
    "data['hours'] = make_hour_feature(data)"
   ]
  },
  {
   "cell_type": "markdown",
   "metadata": {},
   "source": [
    "# New features on each credit card"
   ]
  },
  {
   "cell_type": "code",
   "execution_count": 6,
   "metadata": {},
   "outputs": [],
   "source": [
    "# utils.py\n",
    "\n",
    "def string_card(row):\n",
    "    if pd.isna(row['card1']):\n",
    "        return np.nan\n",
    "    elif pd.isna(row['card2']):\n",
    "        return np.nan\n",
    "    elif pd.isna(row['card3']):\n",
    "        return np.nan\n",
    "    elif pd.isna(row['card4']):\n",
    "        return np.nan\n",
    "    elif pd.isna(row['card5']):\n",
    "        return np.nan\n",
    "    elif pd.isna(row['card6']):\n",
    "        return np.nan\n",
    "    else: \n",
    "        return str(row['card1']) + str(row['card2']) + str(row['card3']) + str(row['card4']) + str(row['card5']) + str(row['card6'])"
   ]
  },
  {
   "cell_type": "markdown",
   "metadata": {},
   "source": [
    "#encoders.py\n",
    "\n",
    "data['cardID'] = data.apply(lambda row: string_card(row), axis=1)"
   ]
  },
  {
   "cell_type": "code",
   "execution_count": 7,
   "metadata": {},
   "outputs": [],
   "source": [
    "# encoders.py\n",
    "def credit_cards(data):\n",
    "    credit_cards = data.groupby('cardID').agg(\n",
    "        mean = pd.NamedAgg(column='TransactionAmt', aggfunc='mean'), \n",
    "        min = pd.NamedAgg(column='TransactionAmt', aggfunc='min'), \n",
    "        max = pd.NamedAgg(column='TransactionAmt', aggfunc='max'),\n",
    "        median = pd.NamedAgg(column='TransactionAmt', aggfunc='median'),\n",
    "    )\n",
    "    return credit_cards"
   ]
  },
  {
   "cell_type": "markdown",
   "metadata": {},
   "source": [
    "#encoders.py\n",
    "\n",
    "data = data.merge(credit_cards(data), how='left', on=\"cardID\")"
   ]
  },
  {
   "cell_type": "markdown",
   "metadata": {},
   "source": [
    "\n",
    "# Create new features:\n",
    "- Distance of current transaction from mean of transaction from credit card\n",
    "- Distance of current transaction from median of transaction from credit card\n",
    "- Relative distance of current transaction from mean of transaction from credit card\n",
    "- Relative distance of current transaction from median of transaction from credit card"
   ]
  },
  {
   "cell_type": "code",
   "execution_count": 8,
   "metadata": {},
   "outputs": [],
   "source": [
    "# utils.py\n",
    "\n",
    "def dist_from_mean(row, metric): \n",
    "    if pd.isna(row['TransactionAmt']):\n",
    "        return np.nan\n",
    "    if pd.isna(row[metric]):\n",
    "        return np.nan\n",
    "    else: \n",
    "        dist = row['TransactionAmt'] - row[metric]\n",
    "        return dist"
   ]
  },
  {
   "cell_type": "markdown",
   "metadata": {},
   "source": [
    "#encoders.py\n",
    "\n",
    "data['dist_mean'] = data.apply(lambda row: dist_from_mean(row, 'mean'), axis=1)\n",
    "data['dist_median'] = data.apply(lambda row: dist_from_mean(row, 'median'), axis=1)"
   ]
  },
  {
   "cell_type": "code",
   "execution_count": 9,
   "metadata": {},
   "outputs": [],
   "source": [
    "# utils.py\n",
    "\n",
    "def dist_from_median_rel(row, metric): \n",
    "    if pd.isna(row['TransactionAmt']):\n",
    "        return np.nan\n",
    "    if pd.isna(row[metric]):\n",
    "        return np.nan\n",
    "    else: \n",
    "        dist_rel = (row['TransactionAmt'] - row[metric]) / row[metric]\n",
    "        return dist_rel"
   ]
  },
  {
   "cell_type": "markdown",
   "metadata": {},
   "source": [
    "#encoders.py\n",
    "\n",
    "data['dist_mean_rel'] = data.apply(lambda row: dist_from_median_rel(row, 'mean'), axis=1)\n",
    "data['dist_median_rel'] = data.apply(lambda row: dist_from_median_rel(row, 'median'), axis=1)"
   ]
  },
  {
   "cell_type": "code",
   "execution_count": 10,
   "metadata": {},
   "outputs": [],
   "source": [
    "def transform_raw_data():\n",
    "    data = drop_many_missing_values()\n",
    "    data['P_emaildomain_bin'], data['P_emaildomain_suffix'] = clean_mail(data)\n",
    "    data['weekday'] = make_day_feature(data, offset=0.58)\n",
    "    data['hours'] = make_hour_feature(data)\n",
    "    data['cardID'] = data.apply(lambda row: string_card(row), axis=1)\n",
    "    data = data.merge(credit_cards(data), how='left', on=\"cardID\")\n",
    "    data['dist_mean'] = data.apply(lambda row: dist_from_mean(row, 'mean'), axis=1)\n",
    "    data['dist_median'] = data.apply(lambda row: dist_from_mean(row, 'median'), axis=1)\n",
    "    data['dist_mean_rel'] = data.apply(lambda row: dist_from_median_rel(row, 'mean'), axis=1)\n",
    "    data['dist_median_rel'] = data.apply(lambda row: dist_from_median_rel(row, 'median'), axis=1)\n",
    "    return data"
   ]
  },
  {
   "cell_type": "code",
   "execution_count": 11,
   "metadata": {},
   "outputs": [],
   "source": [
    "data_transformed = transform_raw_data()"
   ]
  },
  {
   "cell_type": "code",
   "execution_count": 12,
   "metadata": {},
   "outputs": [
    {
     "data": {
      "text/plain": [
       "(590540, 239)"
      ]
     },
     "execution_count": 12,
     "metadata": {},
     "output_type": "execute_result"
    }
   ],
   "source": [
    "data_transformed.shape"
   ]
  },
  {
   "cell_type": "markdown",
   "metadata": {},
   "source": [
    "# IMPUTER AND ENCODING "
   ]
  },
  {
   "cell_type": "code",
   "execution_count": 13,
   "metadata": {},
   "outputs": [],
   "source": [
    "X = data_transformed[['TransactionID','P_emaildomain_suffix','P_emaildomain_bin',\n",
    "'card1','card2','addr1','TransactionAmt','card5','D15','C13','D2','D10','D4','weekday','hours',\\\n",
    "           'dist_mean', 'dist_median','dist_mean_rel','dist_median_rel']]\n",
    "y = data_transformed['isFraud']"
   ]
  },
  {
   "cell_type": "code",
   "execution_count": null,
   "metadata": {},
   "outputs": [],
   "source": [
    "n = (X.dtypes != 'object')\n",
    "num_cols = list(n[n].index)\n",
    "medium_missing_num_cols = []\n",
    "low_missing_num_cols =[]\n",
    "for i in num_cols:\n",
    "    percentage = data[i].isnull().sum() * 100 / len(data[i])\n",
    "    if percentage < 15:\n",
    "        low_missing_num_cols.append(i)\n",
    "    elif percentage >= 15 and percentage <= 60:\n",
    "        medium_missing_num_cols.append(i)"
   ]
  },
  {
   "cell_type": "code",
   "execution_count": null,
   "metadata": {},
   "outputs": [],
   "source": [
    "# trainer.py\n",
    "\n",
    "num_transformer_low = Pipeline([\n",
    "    ('imputer', SimpleImputer(strategy='mean')),\n",
    "    ('scaler', StandardScaler())])\n",
    "num_transformer_medium = Pipeline([\n",
    "    ('imputer', SimpleImputer(strategy='median')),\n",
    "    ('scaler', StandardScaler())])\n",
    "\n",
    "cat_pipeline = Pipeline([\n",
    "    ('imputer', SimpleImputer(strategy='constant', fill_value='Unknown')),\n",
    "    ('one_hot', OneHotEncoder())\n",
    "])\n",
    "    \n",
    "preprocessor = ColumnTransformer([\n",
    "    ('low_num_imputer',num_transformer_low, low_missing_num_cols),\n",
    "    ('medium_num_imputer', num_transformer_medium, medium_missing_num_cols),\n",
    "    ('cat_transformer', cat_pipeline, ['P_emaildomain_suffix','P_emaildomain_bin','weekday','hours'])],\n",
    "    remainder='drop')"
   ]
  },
  {
   "cell_type": "markdown",
   "metadata": {},
   "source": [
    "# Logistic regression"
   ]
  },
  {
   "cell_type": "code",
   "execution_count": null,
   "metadata": {},
   "outputs": [],
   "source": []
  },
  {
   "cell_type": "code",
   "execution_count": null,
   "metadata": {},
   "outputs": [],
   "source": []
  },
  {
   "cell_type": "code",
   "execution_count": null,
   "metadata": {},
   "outputs": [],
   "source": []
  },
  {
   "cell_type": "code",
   "execution_count": null,
   "metadata": {},
   "outputs": [],
   "source": []
  },
  {
   "cell_type": "code",
   "execution_count": null,
   "metadata": {},
   "outputs": [],
   "source": []
  },
  {
   "cell_type": "code",
   "execution_count": null,
   "metadata": {},
   "outputs": [],
   "source": []
  },
  {
   "cell_type": "code",
   "execution_count": null,
   "metadata": {},
   "outputs": [],
   "source": []
  }
 ],
 "metadata": {
  "kernelspec": {
   "display_name": "Python 3",
   "language": "python",
   "name": "python3"
  },
  "language_info": {
   "codemirror_mode": {
    "name": "ipython",
    "version": 3
   },
   "file_extension": ".py",
   "mimetype": "text/x-python",
   "name": "python",
   "nbconvert_exporter": "python",
   "pygments_lexer": "ipython3",
   "version": "3.7.7"
  },
  "latex_envs": {
   "LaTeX_envs_menu_present": true,
   "autoclose": false,
   "autocomplete": true,
   "bibliofile": "biblio.bib",
   "cite_by": "apalike",
   "current_citInitial": 1,
   "eqLabelWithNumbers": true,
   "eqNumInitial": 1,
   "hotkeys": {
    "equation": "Ctrl-E",
    "itemize": "Ctrl-I"
   },
   "labels_anchors": false,
   "latex_user_defs": false,
   "report_style_numbering": false,
   "user_envs_cfg": false
  },
  "toc": {
   "base_numbering": 1,
   "nav_menu": {},
   "number_sections": true,
   "sideBar": true,
   "skip_h1_title": false,
   "title_cell": "Table of Contents",
   "title_sidebar": "Contents",
   "toc_cell": false,
   "toc_position": {},
   "toc_section_display": true,
   "toc_window_display": false
  }
 },
 "nbformat": 4,
 "nbformat_minor": 4
}
