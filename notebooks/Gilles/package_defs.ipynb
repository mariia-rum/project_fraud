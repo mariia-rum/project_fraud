{
 "cells": [
  {
   "cell_type": "code",
   "execution_count": 1,
   "metadata": {},
   "outputs": [],
   "source": [
    "# imports\n",
    "import pandas as pd\n",
    "import numpy as np\n",
    "from sklearn.impute import SimpleImputer"
   ]
  },
  {
   "cell_type": "code",
   "execution_count": 2,
   "metadata": {},
   "outputs": [],
   "source": [
    "def import_concat_data(path_to_data):\n",
    "    # argument of function --> path to the folder where you have stored the cvs's\n",
    "    \n",
    "    #import data\n",
    "    train_identity = pd.read_csv(path_to_data + 'train_identity.csv')\n",
    "    train_transaction = pd.read_csv(path_to_data + 'train_transaction.csv')\n",
    "    test_identity = pd.read_csv(path_to_data + 'test_identity.csv')\n",
    "    test_transaction = pd.read_csv(path_to_data + 'test_transaction.csv')\n",
    "    \n",
    "    # delete target in train_transaction\n",
    "    train_transaction = train_transaction.drop('isFraud', axis=1)\n",
    "    \n",
    "    # rename columns in test_identity\n",
    "    test_identity.columns = ['TransactionID','id_01', 'id_02', 'id_03', 'id_04', 'id_05', 'id_06', 'id_07', 'id_08',\n",
    "       'id_09', 'id_10', 'id_11', 'id_12', 'id_13', 'id_14', 'id_15', 'id_16',\n",
    "       'id_17', 'id_18', 'id_19', 'id_20', 'id_21', 'id_22', 'id_23', 'id_24',\n",
    "       'id_25', 'id_26', 'id_27', 'id_28', 'id_29', 'id_30', 'id_31', 'id_32',\n",
    "       'id_33', 'id_34', 'id_35', 'id_36', 'id_37', 'id_38', 'DeviceType',\n",
    "       'DeviceInfo']\n",
    "    \n",
    "    # concate\n",
    "    transaction_data = pd.concat([train_transaction, test_transaction])\n",
    "    identity_data = pd.concat([train_identity, test_identity])\n",
    "    \n",
    "    return transaction_data, identity_data"
   ]
  },
  {
   "cell_type": "code",
   "execution_count": 3,
   "metadata": {},
   "outputs": [],
   "source": [
    "# definition to clean the data\n",
    "\n",
    "def clean_merge_data():\n",
    "    # use import_concat_data function\n",
    "    transaction_data, identity_data = import_concat_data('~/data/')\n",
    "    \n",
    "    # create list of numerical and categorical features\n",
    "    \n",
    "    ## for transaction_data ##\n",
    "    c = (transaction_data.dtypes == 'object')\n",
    "    n = (transaction_data.dtypes != 'object')\n",
    "    cat_trans_cols = list(c[c].index)\n",
    "    num_trans_cols = list(n[n].index)\n",
    "    # create low, medium, many missing values lists\n",
    "    # for cat\n",
    "    low_missing_cat_trans_cols = []      # lower than 15% missing values\n",
    "    medium_missing_cat_trans_cols = []   # between 15% and 60% missing\n",
    "    many_missing_cat_trans_cols = []     # more than 60% missing\n",
    "    for i in cat_trans_cols:\n",
    "        percentage = transaction_data[i].isnull().sum() * 100 / len(transaction_data[i])\n",
    "        if percentage < 15:\n",
    "            low_missing_cat_trans_cols.append(i)\n",
    "        elif percentage >= 15 and percentage < 60:\n",
    "            medium_missing_cat_trans_cols.append(i)\n",
    "        else:\n",
    "            many_missing_cat_trans_cols.append(i)\n",
    "    # for num\n",
    "    low_missing_num_trans_cols = []      # lower than 15% missing values\n",
    "    medium_missing_num_trans_cols = []   # between 15% and 60% missing\n",
    "    many_missing_num_trans_cols = []     # more than 60% missing\n",
    "    for i in num_trans_cols:\n",
    "        percentage = transaction_data[i].isnull().sum() * 100 / len(transaction_data[i])\n",
    "        if percentage < 15:\n",
    "            low_missing_num_trans_cols.append(i)\n",
    "        elif percentage >= 15 and percentage < 60:\n",
    "            medium_missing_num_trans_cols.append(i)\n",
    "        else:\n",
    "            many_missing_num_trans_cols.append(i)\n",
    "    \n",
    "    ## for identity_data ##\n",
    "    c = (identity_data.dtypes == 'object')\n",
    "    n = (identity_data.dtypes != 'object')\n",
    "    cat_id_cols = list(c[c].index)\n",
    "    num_id_cols = list(n[n].index)\n",
    "    # create low, medium, many missing values lists\n",
    "    # for cat\n",
    "    low_missing_cat_id_cols = []      # lower than 15% missing values\n",
    "    medium_missing_cat_id_cols = []   # between 15% and 60% missing\n",
    "    many_missing_cat_id_cols = []     # more than 60% missing\n",
    "    for i in cat_id_cols:\n",
    "        percentage = identity_data[i].isnull().sum() * 100 / len(identity_data[i])\n",
    "        if percentage < 15:\n",
    "            low_missing_cat_id_cols.append(i)\n",
    "        elif percentage >= 15 and percentage < 60:\n",
    "            medium_missing_cat_id_cols.append(i)\n",
    "        else:\n",
    "            many_missing_cat_id_cols.append(i)\n",
    "    # for num\n",
    "    low_missing_num_id_cols = []      # lower than 15% missing values\n",
    "    medium_missing_num_id_cols = []   # between 15% and 60% missing\n",
    "    many_missing_num_id_cols = []     # more than 60% missing\n",
    "    for i in num_id_cols:\n",
    "        percentage = identity_data[i].isnull().sum() * 100 / len(identity_data[i])\n",
    "        if percentage < 15:\n",
    "            low_missing_num_id_cols.append(i)\n",
    "        elif percentage >= 15 and percentage < 60:\n",
    "            medium_missing_num_id_cols.append(i)\n",
    "        else:\n",
    "            many_missing_num_id_cols.append(i)\n",
    "            \n",
    "    # clean NUMERICAL features\n",
    "    \n",
    "    # drop numerical features with many missing values\n",
    "    identity_data = identity_data.drop(columns = many_missing_num_id_cols)\n",
    "    \n",
    "    transaction_data = transaction_data.drop(columns = many_missing_num_trans_cols)\n",
    "    \n",
    "    \n",
    "    # impute numerical features with medium missing values\n",
    "    my_imputer = SimpleImputer(strategy = 'median')\n",
    "    my_imputer.fit(identity_data[medium_missing_num_id_cols])\n",
    "    identity_data[medium_missing_num_id_cols] = my_imputer.transform(identity_data[medium_missing_num_id_cols])\n",
    "    \n",
    "    my_imputer = SimpleImputer(strategy = 'median') \n",
    "    my_imputer.fit(transaction_data[medium_missing_num_trans_cols])\n",
    "    transaction_data[medium_missing_num_trans_cols] = my_imputer.transform(transaction_data[medium_missing_num_trans_cols])\n",
    "    \n",
    "    # impute numerical features with low missing values\n",
    "    my_imputer = SimpleImputer(strategy = 'mean') \n",
    "    my_imputer.fit(identity_data[low_missing_num_id_cols])\n",
    "    identity_data[low_missing_num_id_cols] = my_imputer.transform(identity_data[low_missing_num_id_cols])\n",
    "    \n",
    "    my_imputer = SimpleImputer(strategy = 'mean') \n",
    "    my_imputer.fit(transaction_data[low_missing_num_trans_cols])\n",
    "    transaction_data[low_missing_num_trans_cols] = my_imputer.transform(transaction_data[low_missing_num_trans_cols])\n",
    "\n",
    "    \n",
    "    # clean CATEGORIAL features\n",
    "    \n",
    "    # drop features with many missing values\n",
    "    identity_data = identity_data.drop(columns = many_missing_cat_id_cols)\n",
    "    \n",
    "    transaction_data = transaction_data.drop(columns = many_missing_cat_trans_cols)\n",
    "    \n",
    "    # merge\n",
    "    df_merged = transaction_data.merge(identity_data, on='TransactionID', how='left')\n",
    "    \n",
    "    return df_merged"
   ]
  },
  {
   "cell_type": "code",
   "execution_count": 4,
   "metadata": {},
   "outputs": [],
   "source": [
    "df_merged = clean_merge_data()"
   ]
  },
  {
   "cell_type": "code",
   "execution_count": 5,
   "metadata": {},
   "outputs": [
    {
     "data": {
      "text/plain": [
       "(1097231, 254)"
      ]
     },
     "execution_count": 5,
     "metadata": {},
     "output_type": "execute_result"
    }
   ],
   "source": [
    "df_merged.shape"
   ]
  },
  {
   "cell_type": "code",
   "execution_count": null,
   "metadata": {},
   "outputs": [],
   "source": []
  },
  {
   "cell_type": "code",
   "execution_count": null,
   "metadata": {},
   "outputs": [],
   "source": []
  },
  {
   "cell_type": "code",
   "execution_count": null,
   "metadata": {},
   "outputs": [],
   "source": []
  },
  {
   "cell_type": "code",
   "execution_count": null,
   "metadata": {},
   "outputs": [],
   "source": []
  },
  {
   "cell_type": "code",
   "execution_count": null,
   "metadata": {},
   "outputs": [],
   "source": []
  },
  {
   "cell_type": "code",
   "execution_count": null,
   "metadata": {},
   "outputs": [],
   "source": []
  },
  {
   "cell_type": "code",
   "execution_count": null,
   "metadata": {},
   "outputs": [],
   "source": []
  },
  {
   "cell_type": "code",
   "execution_count": null,
   "metadata": {},
   "outputs": [],
   "source": []
  },
  {
   "cell_type": "code",
   "execution_count": null,
   "metadata": {},
   "outputs": [],
   "source": []
  }
 ],
 "metadata": {
  "kernelspec": {
   "display_name": "Python 3",
   "language": "python",
   "name": "python3"
  },
  "language_info": {
   "codemirror_mode": {
    "name": "ipython",
    "version": 3
   },
   "file_extension": ".py",
   "mimetype": "text/x-python",
   "name": "python",
   "nbconvert_exporter": "python",
   "pygments_lexer": "ipython3",
   "version": "3.7.7"
  },
  "latex_envs": {
   "LaTeX_envs_menu_present": true,
   "autoclose": false,
   "autocomplete": true,
   "bibliofile": "biblio.bib",
   "cite_by": "apalike",
   "current_citInitial": 1,
   "eqLabelWithNumbers": true,
   "eqNumInitial": 1,
   "hotkeys": {
    "equation": "Ctrl-E",
    "itemize": "Ctrl-I"
   },
   "labels_anchors": false,
   "latex_user_defs": false,
   "report_style_numbering": false,
   "user_envs_cfg": false
  },
  "toc": {
   "base_numbering": 1,
   "nav_menu": {},
   "number_sections": true,
   "sideBar": true,
   "skip_h1_title": false,
   "title_cell": "Table of Contents",
   "title_sidebar": "Contents",
   "toc_cell": false,
   "toc_position": {},
   "toc_section_display": true,
   "toc_window_display": false
  }
 },
 "nbformat": 4,
 "nbformat_minor": 4
}
