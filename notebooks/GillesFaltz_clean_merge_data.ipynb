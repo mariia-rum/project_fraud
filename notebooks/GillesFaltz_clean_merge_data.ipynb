{
 "cells": [
  {
   "cell_type": "code",
   "execution_count": 1,
   "metadata": {},
   "outputs": [],
   "source": [
    "import pandas as pd"
   ]
  },
  {
   "cell_type": "markdown",
   "metadata": {},
   "source": [
    "# import data"
   ]
  },
  {
   "cell_type": "code",
   "execution_count": 2,
   "metadata": {},
   "outputs": [],
   "source": [
    "train_identity = pd.read_csv('~/data/train_identity.csv')\n",
    "train_transaction = pd.read_csv('~/data/train_transaction.csv')\n",
    "test_identity = pd.read_csv('~/data/test_identity.csv')\n",
    "test_transaction = pd.read_csv('~/data/test_transaction.csv')\n",
    "sample = pd.read_csv('~/data/sample_submission.csv')"
   ]
  },
  {
   "cell_type": "code",
   "execution_count": 3,
   "metadata": {},
   "outputs": [
    {
     "name": "stdout",
     "output_type": "stream",
     "text": [
      "train_transaction shape is (590540, 394)\n",
      "test_transaction shape is (506691, 393)\n",
      "train_identity shape is (144233, 41)\n",
      "test_identity shape is (141907, 41)\n"
     ]
    }
   ],
   "source": [
    "print('train_transaction shape is {}'.format(train_transaction.shape))\n",
    "print('test_transaction shape is {}'.format(test_transaction.shape))\n",
    "print('train_identity shape is {}'.format(train_identity.shape))\n",
    "print('test_identity shape is {}'.format(test_identity.shape))"
   ]
  },
  {
   "cell_type": "code",
   "execution_count": 4,
   "metadata": {},
   "outputs": [
    {
     "data": {
      "text/plain": [
       "['isFraud']"
      ]
     },
     "execution_count": 4,
     "metadata": {},
     "output_type": "execute_result"
    }
   ],
   "source": [
    "list(set(train_transaction.columns) - set(test_transaction.columns))"
   ]
  },
  {
   "cell_type": "code",
   "execution_count": 5,
   "metadata": {},
   "outputs": [],
   "source": [
    "train_transaction = train_transaction.drop('isFraud', axis=1)"
   ]
  },
  {
   "cell_type": "code",
   "execution_count": 6,
   "metadata": {},
   "outputs": [],
   "source": [
    "test_identity.columns = ['TransactionID','id_01', 'id_02', 'id_03', 'id_04', 'id_05', 'id_06', 'id_07', 'id_08',\n",
    "       'id_09', 'id_10', 'id_11', 'id_12', 'id_13', 'id_14', 'id_15', 'id_16',\n",
    "       'id_17', 'id_18', 'id_19', 'id_20', 'id_21', 'id_22', 'id_23', 'id_24',\n",
    "       'id_25', 'id_26', 'id_27', 'id_28', 'id_29', 'id_30', 'id_31', 'id_32',\n",
    "       'id_33', 'id_34', 'id_35', 'id_36', 'id_37', 'id_38', 'DeviceType',\n",
    "       'DeviceInfo']"
   ]
  },
  {
   "cell_type": "code",
   "execution_count": 7,
   "metadata": {},
   "outputs": [],
   "source": [
    "transaction_data = pd.concat([train_transaction, test_transaction])\n",
    "identity_data = pd.concat([train_identity, test_identity])"
   ]
  },
  {
   "cell_type": "code",
   "execution_count": 8,
   "metadata": {},
   "outputs": [
    {
     "name": "stdout",
     "output_type": "stream",
     "text": [
      "transaction_data shape is (1097231, 393)\n",
      "identity_data shape is (286140, 41)\n"
     ]
    }
   ],
   "source": [
    "print('transaction_data shape is {}'.format(transaction_data.shape))\n",
    "print('identity_data shape is {}'.format(identity_data.shape))"
   ]
  },
  {
   "cell_type": "markdown",
   "metadata": {},
   "source": [
    "# clean data"
   ]
  },
  {
   "cell_type": "markdown",
   "metadata": {},
   "source": [
    "## Create a list of numerical and categorical features "
   ]
  },
  {
   "cell_type": "markdown",
   "metadata": {},
   "source": [
    "### in identity_data"
   ]
  },
  {
   "cell_type": "code",
   "execution_count": 43,
   "metadata": {
    "scrolled": true
   },
   "outputs": [
    {
     "name": "stdout",
     "output_type": "stream",
     "text": [
      "['id_12', 'id_15', 'id_16', 'id_23', 'id_27', 'id_28', 'id_29', 'id_30', 'id_31', 'id_33', 'id_34', 'id_35', 'id_36', 'id_37', 'id_38', 'DeviceType', 'DeviceInfo'] \n",
      "\n",
      "number categorical identity features:  17 \n",
      "\n",
      "\n",
      "['TransactionID', 'id_01', 'id_02', 'id_03', 'id_04', 'id_05', 'id_06', 'id_09', 'id_10', 'id_11', 'id_13', 'id_14', 'id_17', 'id_19', 'id_20', 'id_32'] \n",
      "\n",
      "number numerical identity features:  16\n"
     ]
    }
   ],
   "source": [
    "# create a list of numerical features\n",
    "# create a list of categorical features\n",
    "\n",
    "c = (identity_data.dtypes == 'object')\n",
    "n = (identity_data.dtypes != 'object')\n",
    "cat_id_cols = list(c[c].index)\n",
    "num_id_cols = list(n[n].index) \n",
    "\n",
    "print(cat_id_cols, \"\\n\")\n",
    "print(\"number categorical identity features: \", len(cat_id_cols), \"\\n\\n\")\n",
    "print(num_id_cols, \"\\n\")\n",
    "print(\"number numerical identity features: \", len(num_id_cols))"
   ]
  },
  {
   "cell_type": "markdown",
   "metadata": {},
   "source": [
    "### in transaction_data"
   ]
  },
  {
   "cell_type": "code",
   "execution_count": 44,
   "metadata": {
    "scrolled": true
   },
   "outputs": [
    {
     "name": "stdout",
     "output_type": "stream",
     "text": [
      "['ProductCD', 'card4', 'card6', 'P_emaildomain', 'R_emaildomain', 'M1', 'M2', 'M3', 'M4', 'M5', 'M6', 'M7', 'M8', 'M9'] \n",
      "\n",
      "number categorical transaction features:  14 \n",
      "\n",
      "\n",
      "['TransactionID', 'TransactionDT', 'TransactionAmt', 'card1', 'card2', 'card3', 'card5', 'addr1', 'addr2', 'dist1', 'dist2', 'C1', 'C2', 'C3', 'C4', 'C5', 'C6', 'C7', 'C8', 'C9', 'C10', 'C11', 'C12', 'C13', 'C14', 'D1', 'D2', 'D3', 'D4', 'D5', 'D6', 'D7', 'D8', 'D9', 'D10', 'D11', 'D12', 'D13', 'D14', 'D15', 'V1', 'V2', 'V3', 'V4', 'V5', 'V6', 'V7', 'V8', 'V9', 'V10', 'V11', 'V12', 'V13', 'V14', 'V15', 'V16', 'V17', 'V18', 'V19', 'V20', 'V21', 'V22', 'V23', 'V24', 'V25', 'V26', 'V27', 'V28', 'V29', 'V30', 'V31', 'V32', 'V33', 'V34', 'V35', 'V36', 'V37', 'V38', 'V39', 'V40', 'V41', 'V42', 'V43', 'V44', 'V45', 'V46', 'V47', 'V48', 'V49', 'V50', 'V51', 'V52', 'V53', 'V54', 'V55', 'V56', 'V57', 'V58', 'V59', 'V60', 'V61', 'V62', 'V63', 'V64', 'V65', 'V66', 'V67', 'V68', 'V69', 'V70', 'V71', 'V72', 'V73', 'V74', 'V75', 'V76', 'V77', 'V78', 'V79', 'V80', 'V81', 'V82', 'V83', 'V84', 'V85', 'V86', 'V87', 'V88', 'V89', 'V90', 'V91', 'V92', 'V93', 'V94', 'V95', 'V96', 'V97', 'V98', 'V99', 'V100', 'V101', 'V102', 'V103', 'V104', 'V105', 'V106', 'V107', 'V108', 'V109', 'V110', 'V111', 'V112', 'V113', 'V114', 'V115', 'V116', 'V117', 'V118', 'V119', 'V120', 'V121', 'V122', 'V123', 'V124', 'V125', 'V126', 'V127', 'V128', 'V129', 'V130', 'V131', 'V132', 'V133', 'V134', 'V135', 'V136', 'V137', 'V138', 'V139', 'V140', 'V141', 'V142', 'V143', 'V144', 'V145', 'V146', 'V147', 'V148', 'V149', 'V150', 'V151', 'V152', 'V153', 'V154', 'V155', 'V156', 'V157', 'V158', 'V159', 'V160', 'V161', 'V162', 'V163', 'V164', 'V165', 'V166', 'V167', 'V168', 'V169', 'V170', 'V171', 'V172', 'V173', 'V174', 'V175', 'V176', 'V177', 'V178', 'V179', 'V180', 'V181', 'V182', 'V183', 'V184', 'V185', 'V186', 'V187', 'V188', 'V189', 'V190', 'V191', 'V192', 'V193', 'V194', 'V195', 'V196', 'V197', 'V198', 'V199', 'V200', 'V201', 'V202', 'V203', 'V204', 'V205', 'V206', 'V207', 'V208', 'V209', 'V210', 'V211', 'V212', 'V213', 'V214', 'V215', 'V216', 'V217', 'V218', 'V219', 'V220', 'V221', 'V222', 'V223', 'V224', 'V225', 'V226', 'V227', 'V228', 'V229', 'V230', 'V231', 'V232', 'V233', 'V234', 'V235', 'V236', 'V237', 'V238', 'V239', 'V240', 'V241', 'V242', 'V243', 'V244', 'V245', 'V246', 'V247', 'V248', 'V249', 'V250', 'V251', 'V252', 'V253', 'V254', 'V255', 'V256', 'V257', 'V258', 'V259', 'V260', 'V261', 'V262', 'V263', 'V264', 'V265', 'V266', 'V267', 'V268', 'V269', 'V270', 'V271', 'V272', 'V273', 'V274', 'V275', 'V276', 'V277', 'V278', 'V279', 'V280', 'V281', 'V282', 'V283', 'V284', 'V285', 'V286', 'V287', 'V288', 'V289', 'V290', 'V291', 'V292', 'V293', 'V294', 'V295', 'V296', 'V297', 'V298', 'V299', 'V300', 'V301', 'V302', 'V303', 'V304', 'V305', 'V306', 'V307', 'V308', 'V309', 'V310', 'V311', 'V312', 'V313', 'V314', 'V315', 'V316', 'V317', 'V318', 'V319', 'V320', 'V321', 'V322', 'V323', 'V324', 'V325', 'V326', 'V327', 'V328', 'V329', 'V330', 'V331', 'V332', 'V333', 'V334', 'V335', 'V336', 'V337', 'V338', 'V339'] \n",
      "\n"
     ]
    }
   ],
   "source": [
    "# create a list of numerical features\n",
    "# create a list of categorical features\n",
    "\n",
    "c = (transaction_data.dtypes == 'object')\n",
    "n = (transaction_data.dtypes != 'object')\n",
    "cat_trans_cols = list(c[c].index)\n",
    "num_trans_cols = list(n[n].index) \n",
    "\n",
    "print(cat_trans_cols, \"\\n\")\n",
    "print(\"number categorical transaction features: \", len(cat_trans_cols), \"\\n\\n\")\n",
    "print(num_trans_cols, \"\\n\")"
   ]
  },
  {
   "cell_type": "markdown",
   "metadata": {},
   "source": [
    "## create low, medium, many missing values"
   ]
  },
  {
   "cell_type": "markdown",
   "metadata": {},
   "source": [
    "### for identity"
   ]
  },
  {
   "cell_type": "markdown",
   "metadata": {},
   "source": [
    "#### for cat"
   ]
  },
  {
   "cell_type": "code",
   "execution_count": 45,
   "metadata": {},
   "outputs": [],
   "source": [
    "low_missing_cat_id_cols = []      # lower than 15% missing values\n",
    "medium_missing_cat_id_cols = []   # between 15% and 60% missing\n",
    "many_missing_cat_id_cols = []     # more than 60% missing\n",
    "\n",
    "for i in cat_id_cols:\n",
    "    percentage = identity_data[i].isnull().sum() * 100 / len(identity_data[i])\n",
    "    if percentage < 15:\n",
    "        low_missing_cat_id_cols.append(i)\n",
    "    elif percentage >= 15 and percentage < 60:\n",
    "        medium_missing_cat_id_cols.append(i)\n",
    "    else:\n",
    "        many_missing_cat_id_cols.append(i)"
   ]
  },
  {
   "cell_type": "markdown",
   "metadata": {},
   "source": [
    "#### for num"
   ]
  },
  {
   "cell_type": "code",
   "execution_count": 46,
   "metadata": {},
   "outputs": [],
   "source": [
    "low_missing_num_id_cols = []      # lower than 15% missing values\n",
    "medium_missing_num_id_cols = []   # between 15% and 60% missing\n",
    "many_missing_num_id_cols = []     # more than 60% missing\n",
    "\n",
    "for i in num_id_cols:\n",
    "    percentage = identity_data[i].isnull().sum() * 100 / len(identity_data[i])\n",
    "    if percentage < 15:\n",
    "        low_missing_num_id_cols.append(i)\n",
    "    elif percentage >= 15 and percentage < 60:\n",
    "        medium_missing_num_id_cols.append(i)\n",
    "    else:\n",
    "        many_missing_num_id_cols.append(i)"
   ]
  },
  {
   "cell_type": "markdown",
   "metadata": {},
   "source": [
    "### for transaction"
   ]
  },
  {
   "cell_type": "markdown",
   "metadata": {},
   "source": [
    "#### for cat"
   ]
  },
  {
   "cell_type": "code",
   "execution_count": 47,
   "metadata": {},
   "outputs": [],
   "source": [
    "low_missing_cat_trans_cols = []      # lower than 15% missing values\n",
    "medium_missing_cat_trans_cols = []   # between 15% and 60% missing\n",
    "many_missing_cat_trans_cols = []     # more than 60% missing\n",
    "\n",
    "for i in cat_trans_cols:\n",
    "    percentage = transaction_data[i].isnull().sum() * 100 / len(transaction_data[i])\n",
    "    if percentage < 15:\n",
    "        low_missing_cat_trans_cols.append(i)\n",
    "    elif percentage >= 15 and percentage < 60:\n",
    "        medium_missing_cat_trans_cols.append(i)\n",
    "    else:\n",
    "        many_missing_cat_trans_cols.append(i)"
   ]
  },
  {
   "cell_type": "markdown",
   "metadata": {},
   "source": [
    "#### for num"
   ]
  },
  {
   "cell_type": "code",
   "execution_count": 48,
   "metadata": {},
   "outputs": [],
   "source": [
    "low_missing_num_trans_cols = []      # lower than 15% missing values\n",
    "medium_missing_num_trans_cols = []   # between 15% and 60% missing\n",
    "many_missing_num_trans_cols = []     # more than 60% missing\n",
    "\n",
    "for i in num_trans_cols:\n",
    "    percentage = transaction_data[i].isnull().sum() * 100 / len(transaction_data[i])\n",
    "    if percentage < 15:\n",
    "        low_missing_num_trans_cols.append(i)\n",
    "    elif percentage >= 15 and percentage < 60:\n",
    "        medium_missing_num_trans_cols.append(i)\n",
    "    else:\n",
    "        many_missing_num_trans_cols.append(i)"
   ]
  },
  {
   "cell_type": "markdown",
   "metadata": {},
   "source": [
    "## Clean NUMERICAL features"
   ]
  },
  {
   "cell_type": "markdown",
   "metadata": {
    "heading_collapsed": true
   },
   "source": [
    "### drop features with many missing values"
   ]
  },
  {
   "cell_type": "markdown",
   "metadata": {
    "hidden": true
   },
   "source": [
    "#### for identity"
   ]
  },
  {
   "cell_type": "code",
   "execution_count": 49,
   "metadata": {
    "hidden": true
   },
   "outputs": [
    {
     "name": "stdout",
     "output_type": "stream",
     "text": [
      "shape before dropping num_id_cols:  (286140, 33) \n",
      "\n",
      "shape after dropping num_id_cols:  (286140, 33) \n",
      "\n"
     ]
    }
   ],
   "source": [
    "print(\"shape before dropping num_id_cols: \", identity_data.shape, \"\\n\")        \n",
    "identity_data = identity_data.drop(columns = many_missing_num_id_cols)\n",
    "print(\"shape after dropping num_id_cols: \", identity_data.shape, \"\\n\")"
   ]
  },
  {
   "cell_type": "markdown",
   "metadata": {
    "hidden": true
   },
   "source": [
    "#### for transaction"
   ]
  },
  {
   "cell_type": "code",
   "execution_count": 50,
   "metadata": {
    "hidden": true
   },
   "outputs": [
    {
     "name": "stdout",
     "output_type": "stream",
     "text": [
      "shape before dropping num_trans_cols:  (1097231, 393) \n",
      "\n",
      "shape after dropping num_trans_cols:  (1097231, 226) \n",
      "\n",
      "\n"
     ]
    }
   ],
   "source": [
    "print(\"shape before dropping num_trans_cols: \", transaction_data.shape, \"\\n\")        \n",
    "transaction_data = transaction_data.drop(columns = many_missing_num_trans_cols)\n",
    "print(\"shape after dropping num_trans_cols: \", transaction_data.shape, \"\\n\\n\")  "
   ]
  },
  {
   "cell_type": "markdown",
   "metadata": {},
   "source": [
    "### Impute features with low missing values"
   ]
  },
  {
   "cell_type": "markdown",
   "metadata": {},
   "source": [
    "#### for identity"
   ]
  },
  {
   "cell_type": "code",
   "execution_count": 53,
   "metadata": {
    "scrolled": true
   },
   "outputs": [
    {
     "name": "stdout",
     "output_type": "stream",
     "text": [
      "index before imputation:  Int64Index([     0,      1,      2,      3,      4,      5,      6,      7,\n",
      "                 8,      9,\n",
      "            ...\n",
      "            141897, 141898, 141899, 141900, 141901, 141902, 141903, 141904,\n",
      "            141905, 141906],\n",
      "           dtype='int64', length=286140) \n",
      "\n",
      "columns before imputation:  Index(['TransactionID', 'id_01', 'id_02', 'id_03', 'id_04', 'id_05', 'id_06',\n",
      "       'id_09', 'id_10', 'id_11', 'id_12', 'id_13', 'id_14', 'id_15', 'id_16',\n",
      "       'id_17', 'id_19', 'id_20', 'id_23', 'id_27', 'id_28', 'id_29', 'id_30',\n",
      "       'id_31', 'id_32', 'id_33', 'id_34', 'id_35', 'id_36', 'id_37', 'id_38',\n",
      "       'DeviceType', 'DeviceInfo'],\n",
      "      dtype='object') \n",
      "\n",
      "index after imputation:  Int64Index([     0,      1,      2,      3,      4,      5,      6,      7,\n",
      "                 8,      9,\n",
      "            ...\n",
      "            141897, 141898, 141899, 141900, 141901, 141902, 141903, 141904,\n",
      "            141905, 141906],\n",
      "           dtype='int64', length=286140) \n",
      "\n",
      "columns after imputation:  Index(['TransactionID', 'id_01', 'id_02', 'id_03', 'id_04', 'id_05', 'id_06',\n",
      "       'id_09', 'id_10', 'id_11', 'id_12', 'id_13', 'id_14', 'id_15', 'id_16',\n",
      "       'id_17', 'id_19', 'id_20', 'id_23', 'id_27', 'id_28', 'id_29', 'id_30',\n",
      "       'id_31', 'id_32', 'id_33', 'id_34', 'id_35', 'id_36', 'id_37', 'id_38',\n",
      "       'DeviceType', 'DeviceInfo'],\n",
      "      dtype='object') \n",
      "\n"
     ]
    }
   ],
   "source": [
    "print(\"index before imputation: \", identity_data.index, \"\\n\")\n",
    "print(\"columns before imputation: \", identity_data.columns, \"\\n\")\n",
    "\n",
    "\n",
    "my_imputer = SimpleImputer(strategy = 'mean') \n",
    "my_imputer.fit(identity_data[low_missing_num_id_cols])\n",
    "identity_data[low_missing_num_id_cols] = my_imputer.transform(identity_data[low_missing_num_id_cols])\n",
    "\n",
    "print(\"index after imputation: \", identity_data.index, \"\\n\")\n",
    "print(\"columns after imputation: \", identity_data.columns, \"\\n\")"
   ]
  },
  {
   "cell_type": "markdown",
   "metadata": {},
   "source": [
    "#### for transaction"
   ]
  },
  {
   "cell_type": "code",
   "execution_count": 52,
   "metadata": {
    "scrolled": true
   },
   "outputs": [
    {
     "name": "stdout",
     "output_type": "stream",
     "text": [
      "index before imputation:  Int64Index([     0,      1,      2,      3,      4,      5,      6,      7,\n",
      "                 8,      9,\n",
      "            ...\n",
      "            506681, 506682, 506683, 506684, 506685, 506686, 506687, 506688,\n",
      "            506689, 506690],\n",
      "           dtype='int64', length=1097231) \n",
      "\n",
      "columns before imputation:  Index(['TransactionID', 'TransactionDT', 'TransactionAmt', 'ProductCD',\n",
      "       'card1', 'card2', 'card3', 'card4', 'card5', 'card6',\n",
      "       ...\n",
      "       'V312', 'V313', 'V314', 'V315', 'V316', 'V317', 'V318', 'V319', 'V320',\n",
      "       'V321'],\n",
      "      dtype='object', length=226) \n",
      "\n",
      "index after imputation:  Int64Index([     0,      1,      2,      3,      4,      5,      6,      7,\n",
      "                 8,      9,\n",
      "            ...\n",
      "            506681, 506682, 506683, 506684, 506685, 506686, 506687, 506688,\n",
      "            506689, 506690],\n",
      "           dtype='int64', length=1097231) \n",
      "\n",
      "columns after imputation:  Index(['TransactionID', 'TransactionDT', 'TransactionAmt', 'ProductCD',\n",
      "       'card1', 'card2', 'card3', 'card4', 'card5', 'card6',\n",
      "       ...\n",
      "       'V312', 'V313', 'V314', 'V315', 'V316', 'V317', 'V318', 'V319', 'V320',\n",
      "       'V321'],\n",
      "      dtype='object', length=226) \n",
      "\n"
     ]
    }
   ],
   "source": [
    "from sklearn.impute import SimpleImputer\n",
    "\n",
    "print(\"index before imputation: \", transaction_data.index, \"\\n\")\n",
    "print(\"columns before imputation: \", transaction_data.columns, \"\\n\")\n",
    "\n",
    "my_imputer = SimpleImputer(strategy = 'mean') \n",
    "my_imputer.fit(transaction_data[low_missing_num_trans_cols])\n",
    "transaction_data[low_missing_num_trans_cols] = my_imputer.transform(transaction_data[low_missing_num_trans_cols])\n",
    "\n",
    "print(\"index after imputation: \", transaction_data.index, \"\\n\")\n",
    "print(\"columns after imputation: \", transaction_data.columns, \"\\n\")"
   ]
  },
  {
   "cell_type": "markdown",
   "metadata": {
    "heading_collapsed": true
   },
   "source": [
    "### impute features with medium missing values"
   ]
  },
  {
   "cell_type": "markdown",
   "metadata": {
    "hidden": true
   },
   "source": [
    "#### for identity"
   ]
  },
  {
   "cell_type": "code",
   "execution_count": 55,
   "metadata": {
    "hidden": true,
    "scrolled": true
   },
   "outputs": [
    {
     "name": "stdout",
     "output_type": "stream",
     "text": [
      "index before imputation:  Int64Index([     0,      1,      2,      3,      4,      5,      6,      7,\n",
      "                 8,      9,\n",
      "            ...\n",
      "            141897, 141898, 141899, 141900, 141901, 141902, 141903, 141904,\n",
      "            141905, 141906],\n",
      "           dtype='int64', length=286140) \n",
      "\n",
      "columns before imputation:  Index(['TransactionID', 'id_01', 'id_02', 'id_03', 'id_04', 'id_05', 'id_06',\n",
      "       'id_09', 'id_10', 'id_11', 'id_12', 'id_13', 'id_14', 'id_15', 'id_16',\n",
      "       'id_17', 'id_19', 'id_20', 'id_23', 'id_27', 'id_28', 'id_29', 'id_30',\n",
      "       'id_31', 'id_32', 'id_33', 'id_34', 'id_35', 'id_36', 'id_37', 'id_38',\n",
      "       'DeviceType', 'DeviceInfo'],\n",
      "      dtype='object') \n",
      "\n",
      "values before imputing:          id_03  id_04  id_09  id_10  id_14  id_32\n",
      "0         NaN    NaN    NaN    NaN -480.0   32.0\n",
      "1         NaN    NaN    NaN    NaN -300.0   32.0\n",
      "2         0.0    0.0    0.0    0.0    NaN    NaN\n",
      "3         NaN    NaN    NaN    NaN    NaN    NaN\n",
      "4         0.0    0.0    0.0    0.0 -300.0   24.0\n",
      "5         3.0    0.0    3.0    0.0 -300.0   24.0\n",
      "6         NaN    NaN    NaN    NaN    NaN    NaN\n",
      "7         0.0    0.0    0.0    0.0 -300.0   32.0\n",
      "8         0.0    0.0    0.0    0.0    NaN    NaN\n",
      "9         NaN    NaN    NaN    NaN    NaN    NaN\n",
      "10        NaN    NaN    NaN    NaN    NaN    NaN\n",
      "11        NaN    NaN    NaN    NaN -300.0   32.0\n",
      "12        0.0    0.0    0.0    0.0 -360.0   24.0\n",
      "13        0.0    0.0    0.0    0.0 -300.0   32.0\n",
      "14        NaN    NaN    NaN    NaN -300.0   32.0\n",
      "15        NaN    NaN    NaN    NaN    NaN    NaN\n",
      "16        NaN    NaN    NaN    NaN    NaN    NaN\n",
      "17        NaN    NaN    NaN    NaN    NaN    NaN\n",
      "18        NaN    NaN    0.0    0.0 -300.0   24.0\n",
      "19        0.0    0.0    0.0    0.0 -300.0   32.0\n",
      "20        NaN    NaN    NaN    NaN -300.0   32.0\n",
      "21        0.0    0.0    0.0    0.0 -300.0   24.0\n",
      "22        0.0    0.0    0.0    0.0 -300.0   32.0\n",
      "23        NaN    NaN    NaN    NaN    NaN    NaN\n",
      "24        NaN    NaN    NaN    NaN    NaN    NaN\n",
      "25        NaN    NaN    0.0    0.0    NaN    NaN\n",
      "26        0.0    0.0    0.0    0.0    NaN    NaN\n",
      "27        0.0    0.0    0.0    0.0 -480.0   24.0\n",
      "28        2.0    0.0    2.0    0.0 -300.0   24.0\n",
      "29        2.0    0.0    2.0    0.0 -300.0   24.0\n",
      "...       ...    ...    ...    ...    ...    ...\n",
      "141877    0.0    0.0    0.0    0.0    NaN    NaN\n",
      "141878    NaN    NaN    NaN    NaN    NaN    NaN\n",
      "141879    0.0    0.0    0.0    0.0 -480.0   24.0\n",
      "141880    NaN    NaN    NaN    NaN -360.0   32.0\n",
      "141881    0.0    0.0    0.0    0.0 -480.0   24.0\n",
      "141882    0.0    0.0    1.0    0.0 -300.0   24.0\n",
      "141883    NaN    NaN    NaN    NaN    NaN    NaN\n",
      "141884    NaN    NaN    NaN    NaN    NaN    NaN\n",
      "141885    0.0    0.0    0.0    0.0    NaN    NaN\n",
      "141886    0.0    0.0    0.0    0.0    NaN    NaN\n",
      "141887    0.0    0.0    0.0    0.0    NaN    NaN\n",
      "141888    NaN    NaN    NaN    NaN    NaN    NaN\n",
      "141889    NaN    NaN    NaN    NaN -360.0   32.0\n",
      "141890    NaN    NaN    NaN    NaN    NaN    NaN\n",
      "141891    NaN    NaN    NaN    NaN    NaN    NaN\n",
      "141892    0.0    0.0    0.0    0.0    NaN    NaN\n",
      "141893    0.0    0.0    0.0    0.0 -420.0   24.0\n",
      "141894    NaN    NaN    NaN    NaN    NaN    NaN\n",
      "141895    0.0    0.0    0.0    0.0    NaN    NaN\n",
      "141896    NaN    NaN    NaN    NaN    NaN    NaN\n",
      "141897    NaN    NaN    NaN    NaN    NaN    NaN\n",
      "141898    NaN    NaN    NaN    NaN    NaN    NaN\n",
      "141899    0.0    0.0    0.0    0.0    NaN    NaN\n",
      "141900    0.0    0.0    0.0    0.0    NaN    NaN\n",
      "141901    NaN    NaN    NaN    NaN    NaN    NaN\n",
      "141902    NaN    NaN    NaN    NaN    NaN    NaN\n",
      "141903    0.0    0.0    0.0    0.0    NaN    NaN\n",
      "141904    NaN    NaN    NaN    NaN -300.0   32.0\n",
      "141905    NaN    NaN    NaN    NaN    NaN    NaN\n",
      "141906    0.0    0.0    0.0    0.0    NaN    NaN\n",
      "\n",
      "[286140 rows x 6 columns] \n",
      "\n",
      "index after imputation:  Int64Index([     0,      1,      2,      3,      4,      5,      6,      7,\n",
      "                 8,      9,\n",
      "            ...\n",
      "            141897, 141898, 141899, 141900, 141901, 141902, 141903, 141904,\n",
      "            141905, 141906],\n",
      "           dtype='int64', length=286140) \n",
      "\n",
      "columns after imputation:  Index(['TransactionID', 'id_01', 'id_02', 'id_03', 'id_04', 'id_05', 'id_06',\n",
      "       'id_09', 'id_10', 'id_11', 'id_12', 'id_13', 'id_14', 'id_15', 'id_16',\n",
      "       'id_17', 'id_19', 'id_20', 'id_23', 'id_27', 'id_28', 'id_29', 'id_30',\n",
      "       'id_31', 'id_32', 'id_33', 'id_34', 'id_35', 'id_36', 'id_37', 'id_38',\n",
      "       'DeviceType', 'DeviceInfo'],\n",
      "      dtype='object') \n",
      "\n"
     ]
    }
   ],
   "source": [
    "print(\"index before imputation: \", identity_data.index, \"\\n\")\n",
    "print(\"columns before imputation: \", identity_data.columns, \"\\n\")\n",
    "\n",
    "\n",
    "my_imputer = SimpleImputer(strategy = 'median') \n",
    "my_imputer.fit(identity_data[medium_missing_num_id_cols])\n",
    "\n",
    "print(\"values before imputing: \", identity_data[medium_missing_num_id_cols], \"\\n\")\n",
    "\n",
    "identity_data[medium_missing_num_id_cols] = my_imputer.transform(identity_data[medium_missing_num_id_cols])\n",
    "\n",
    "print(\"index after imputation: \", identity_data.index, \"\\n\")\n",
    "print(\"columns after imputation: \", identity_data.columns, \"\\n\")"
   ]
  },
  {
   "cell_type": "markdown",
   "metadata": {
    "hidden": true
   },
   "source": [
    "#### for transaction"
   ]
  },
  {
   "cell_type": "code",
   "execution_count": 54,
   "metadata": {
    "hidden": true
   },
   "outputs": [
    {
     "name": "stdout",
     "output_type": "stream",
     "text": [
      "index before imputation:  Int64Index([     0,      1,      2,      3,      4,      5,      6,      7,\n",
      "                 8,      9,\n",
      "            ...\n",
      "            506681, 506682, 506683, 506684, 506685, 506686, 506687, 506688,\n",
      "            506689, 506690],\n",
      "           dtype='int64', length=1097231) \n",
      "\n",
      "columns before imputation:  Index(['TransactionID', 'TransactionDT', 'TransactionAmt', 'ProductCD',\n",
      "       'card1', 'card2', 'card3', 'card4', 'card5', 'card6',\n",
      "       ...\n",
      "       'V312', 'V313', 'V314', 'V315', 'V316', 'V317', 'V318', 'V319', 'V320',\n",
      "       'V321'],\n",
      "      dtype='object', length=226) \n",
      "\n",
      "values before imputing:          dist1     D2     D3     D4     D5    D11   V1   V2   V3   V4  ...  \\\n",
      "0        19.0    NaN   13.0    NaN    NaN   13.0  1.0  1.0  1.0  1.0  ...   \n",
      "1         NaN    NaN    NaN    0.0    NaN    NaN  NaN  NaN  NaN  NaN  ...   \n",
      "2       287.0    NaN    NaN    0.0    NaN  315.0  1.0  1.0  1.0  1.0  ...   \n",
      "3         NaN  112.0    0.0   94.0    0.0    NaN  NaN  NaN  NaN  NaN  ...   \n",
      "4         NaN    NaN    NaN    NaN    NaN    NaN  NaN  NaN  NaN  NaN  ...   \n",
      "5        36.0    NaN    NaN    0.0    NaN    0.0  1.0  1.0  1.0  1.0  ...   \n",
      "6         0.0    NaN    NaN    0.0    NaN    0.0  1.0  1.0  1.0  1.0  ...   \n",
      "7         NaN    NaN    NaN    0.0    NaN    NaN  NaN  NaN  NaN  NaN  ...   \n",
      "8         NaN    NaN    NaN    NaN    NaN    NaN  NaN  NaN  NaN  NaN  ...   \n",
      "9        19.0   61.0   30.0  318.0   30.0  302.0  1.0  1.0  1.0  1.0  ...   \n",
      "10        NaN    1.0    0.0    0.0    0.0    NaN  NaN  NaN  NaN  NaN  ...   \n",
      "11        NaN    NaN    NaN    0.0    NaN    NaN  NaN  NaN  NaN  NaN  ...   \n",
      "12        NaN   72.0   11.0  107.0   11.0    NaN  NaN  NaN  NaN  NaN  ...   \n",
      "13        NaN   46.0   10.0   45.0   10.0    NaN  NaN  NaN  NaN  NaN  ...   \n",
      "14        NaN    NaN    NaN    0.0    NaN    NaN  NaN  NaN  NaN  NaN  ...   \n",
      "15        3.0    NaN    NaN    NaN    NaN  423.0  1.0  1.0  1.0  1.0  ...   \n",
      "16        NaN    NaN    NaN    NaN    NaN    NaN  NaN  NaN  NaN  NaN  ...   \n",
      "17        NaN    NaN    NaN    NaN    NaN    NaN  NaN  NaN  NaN  NaN  ...   \n",
      "18        5.0    NaN    NaN    0.0    NaN  237.0  1.0  1.0  1.0  1.0  ...   \n",
      "19        NaN   62.0    2.0   35.0    2.0    NaN  NaN  NaN  NaN  NaN  ...   \n",
      "20        0.0    NaN    NaN    0.0    NaN    0.0  1.0  1.0  1.0  1.0  ...   \n",
      "21        NaN  485.0    3.0  358.0   40.0    NaN  NaN  NaN  NaN  NaN  ...   \n",
      "22        NaN    NaN    NaN    NaN    NaN    NaN  NaN  NaN  NaN  NaN  ...   \n",
      "23        4.0    NaN    NaN    0.0    NaN    0.0  1.0  1.0  1.0  1.0  ...   \n",
      "24        NaN   66.0   35.0   65.0   35.0    NaN  NaN  NaN  NaN  NaN  ...   \n",
      "25        NaN    NaN    NaN   24.0    1.0    NaN  NaN  NaN  NaN  NaN  ...   \n",
      "26        NaN    NaN    NaN  244.0   90.0    NaN  NaN  NaN  NaN  NaN  ...   \n",
      "27       17.0    NaN    NaN   35.0   35.0   35.0  1.0  1.0  1.0  1.0  ...   \n",
      "28        NaN    1.0    0.0    NaN    NaN    NaN  NaN  NaN  NaN  NaN  ...   \n",
      "29        NaN    NaN    NaN    0.0    NaN    NaN  NaN  NaN  NaN  NaN  ...   \n",
      "...       ...    ...    ...    ...    ...    ...  ...  ...  ...  ...  ...   \n",
      "506661    NaN    NaN    NaN    0.0    NaN    NaN  NaN  NaN  NaN  NaN  ...   \n",
      "506662    NaN    NaN    NaN    0.0    NaN    0.0  1.0  1.0  1.0  1.0  ...   \n",
      "506663   66.0    NaN    NaN    NaN    NaN   14.0  1.0  1.0  1.0  0.0  ...   \n",
      "506664  153.0   33.0    2.0  300.0    2.0  300.0  1.0  1.0  1.0  1.0  ...   \n",
      "506665    NaN    NaN    NaN    0.0    NaN    NaN  NaN  NaN  NaN  NaN  ...   \n",
      "506666    NaN   80.0   29.0  344.0   17.0    0.0  1.0  1.0  1.0  1.0  ...   \n",
      "506667    9.0   29.0    0.0   29.0    0.0   29.0  1.0  1.0  1.0  1.0  ...   \n",
      "506668    8.0   70.0    5.0   18.0    5.0  138.0  1.0  1.0  1.0  1.0  ...   \n",
      "506669   13.0   10.0   10.0   10.0   10.0   10.0  1.0  1.0  1.0  1.0  ...   \n",
      "506670    NaN  434.0   11.0  434.0  402.0    NaN  NaN  NaN  NaN  NaN  ...   \n",
      "506671    NaN    NaN    NaN    0.0    NaN    NaN  NaN  NaN  NaN  NaN  ...   \n",
      "506672    NaN  270.0  270.0    0.0    NaN    0.0  1.0  1.0  1.0  1.0  ...   \n",
      "506673   11.0  494.0    6.0  318.0    6.0  297.0  1.0  1.0  1.0  1.0  ...   \n",
      "506674    NaN    NaN    NaN    0.0    NaN    NaN  NaN  NaN  NaN  NaN  ...   \n",
      "506675    NaN    NaN    NaN    0.0    NaN    NaN  NaN  NaN  NaN  NaN  ...   \n",
      "506676    NaN    NaN    NaN    0.0    NaN    NaN  NaN  NaN  NaN  NaN  ...   \n",
      "506677    NaN   80.0   21.0  233.0  177.0    NaN  NaN  NaN  NaN  NaN  ...   \n",
      "506678    NaN    NaN    NaN    0.0    NaN    0.0  1.0  1.0  1.0  1.0  ...   \n",
      "506679    NaN    4.0    4.0    5.0    4.0    NaN  NaN  NaN  NaN  NaN  ...   \n",
      "506680    NaN   32.0   29.0   32.0   29.0    NaN  NaN  NaN  NaN  NaN  ...   \n",
      "506681    NaN    NaN    NaN    0.0    NaN    NaN  NaN  NaN  NaN  NaN  ...   \n",
      "506682    9.0   29.0    0.0   29.0    0.0   29.0  1.0  1.0  1.0  1.0  ...   \n",
      "506683    0.0  620.0   13.0    0.0    NaN  546.0  1.0  1.0  1.0  1.0  ...   \n",
      "506684    NaN  373.0    1.0    0.0    NaN    NaN  NaN  NaN  NaN  NaN  ...   \n",
      "506685    NaN    NaN    NaN    0.0    NaN    NaN  NaN  NaN  NaN  NaN  ...   \n",
      "506686    NaN    NaN    NaN    0.0    NaN    NaN  NaN  NaN  NaN  NaN  ...   \n",
      "506687    NaN   16.0   16.0   16.0   16.0    NaN  NaN  NaN  NaN  NaN  ...   \n",
      "506688    NaN    NaN    NaN    0.0    NaN    0.0  1.0  1.0  1.0  1.0  ...   \n",
      "506689    NaN    NaN    NaN    0.0    NaN    0.0  1.0  1.0  1.0  1.0  ...   \n",
      "506690    NaN    NaN    NaN    0.0    NaN    NaN  NaN  NaN  NaN  NaN  ...   \n",
      "\n",
      "        V43  V44  V45  V46  V47  V48  V49  V50  V51  V52  \n",
      "0       NaN  NaN  NaN  NaN  NaN  NaN  NaN  NaN  NaN  NaN  \n",
      "1       0.0  1.0  1.0  1.0  1.0  0.0  0.0  0.0  0.0  0.0  \n",
      "2       0.0  1.0  1.0  1.0  1.0  0.0  0.0  0.0  0.0  0.0  \n",
      "3       0.0  1.0  1.0  1.0  1.0  0.0  0.0  0.0  0.0  0.0  \n",
      "4       NaN  NaN  NaN  NaN  NaN  NaN  NaN  NaN  NaN  NaN  \n",
      "5       0.0  1.0  1.0  1.0  1.0  0.0  0.0  0.0  0.0  0.0  \n",
      "6       0.0  1.0  1.0  1.0  1.0  0.0  0.0  0.0  0.0  0.0  \n",
      "7       0.0  1.0  1.0  1.0  1.0  0.0  0.0  0.0  0.0  0.0  \n",
      "8       NaN  NaN  NaN  NaN  NaN  NaN  NaN  NaN  NaN  NaN  \n",
      "9       0.0  1.0  1.0  1.0  1.0  0.0  0.0  0.0  0.0  0.0  \n",
      "10      1.0  1.0  1.0  2.0  2.0  0.0  0.0  1.0  2.0  2.0  \n",
      "11      1.0  1.0  1.0  1.0  1.0  0.0  0.0  1.0  1.0  1.0  \n",
      "12      0.0  1.0  2.0  1.0  2.0  0.0  0.0  0.0  0.0  0.0  \n",
      "13      0.0  1.0  1.0  1.0  1.0  1.0  1.0  0.0  0.0  0.0  \n",
      "14      0.0  1.0  1.0  1.0  1.0  0.0  0.0  0.0  0.0  0.0  \n",
      "15      NaN  NaN  NaN  NaN  NaN  NaN  NaN  NaN  NaN  NaN  \n",
      "16      NaN  NaN  NaN  NaN  NaN  NaN  NaN  NaN  NaN  NaN  \n",
      "17      NaN  NaN  NaN  NaN  NaN  NaN  NaN  NaN  NaN  NaN  \n",
      "18      0.0  1.0  1.0  1.0  1.0  1.0  1.0  0.0  0.0  0.0  \n",
      "19      0.0  1.0  1.0  1.0  1.0  0.0  0.0  0.0  0.0  0.0  \n",
      "20      0.0  1.0  1.0  1.0  1.0  0.0  0.0  0.0  0.0  0.0  \n",
      "21      0.0  1.0  1.0  1.0  1.0  1.0  1.0  0.0  0.0  0.0  \n",
      "22      NaN  NaN  NaN  NaN  NaN  NaN  NaN  NaN  NaN  NaN  \n",
      "23      0.0  1.0  1.0  1.0  1.0  1.0  1.0  0.0  0.0  0.0  \n",
      "24      0.0  1.0  1.0  1.0  1.0  1.0  1.0  0.0  0.0  0.0  \n",
      "25      0.0  2.0  2.0  1.0  1.0  2.0  2.0  0.0  0.0  0.0  \n",
      "26      0.0  1.0  1.0  1.0  1.0  0.0  0.0  0.0  0.0  0.0  \n",
      "27      0.0  1.0  1.0  1.0  1.0  0.0  0.0  0.0  0.0  0.0  \n",
      "28      NaN  NaN  NaN  NaN  NaN  NaN  NaN  NaN  NaN  NaN  \n",
      "29      0.0  1.0  1.0  1.0  1.0  0.0  0.0  0.0  0.0  0.0  \n",
      "...     ...  ...  ...  ...  ...  ...  ...  ...  ...  ...  \n",
      "506661  0.0  1.0  1.0  1.0  1.0  0.0  0.0  0.0  0.0  0.0  \n",
      "506662  0.0  1.0  1.0  1.0  1.0  0.0  0.0  0.0  0.0  0.0  \n",
      "506663  NaN  NaN  NaN  NaN  NaN  NaN  NaN  NaN  NaN  NaN  \n",
      "506664  0.0  1.0  1.0  1.0  1.0  0.0  0.0  0.0  1.0  1.0  \n",
      "506665  1.0  1.0  1.0  1.0  1.0  0.0  0.0  1.0  1.0  1.0  \n",
      "506666  0.0  1.0  1.0  1.0  1.0  0.0  0.0  0.0  0.0  0.0  \n",
      "506667  0.0  1.0  1.0  1.0  1.0  0.0  0.0  0.0  1.0  1.0  \n",
      "506668  0.0  1.0  1.0  1.0  1.0  1.0  1.0  0.0  0.0  0.0  \n",
      "506669  0.0  1.0  1.0  1.0  1.0  0.0  0.0  0.0  0.0  0.0  \n",
      "506670  1.0  1.0  1.0  1.0  1.0  0.0  0.0  1.0  1.0  1.0  \n",
      "506671  0.0  1.0  1.0  1.0  1.0  1.0  1.0  0.0  0.0  0.0  \n",
      "506672  0.0  1.0  1.0  1.0  1.0  0.0  0.0  0.0  0.0  0.0  \n",
      "506673  0.0  1.0  1.0  1.0  1.0  0.0  0.0  0.0  0.0  0.0  \n",
      "506674  1.0  1.0  1.0  1.0  1.0  0.0  0.0  1.0  1.0  1.0  \n",
      "506675  1.0  1.0  1.0  1.0  1.0  0.0  0.0  1.0  1.0  1.0  \n",
      "506676  1.0  1.0  1.0  1.0  1.0  0.0  0.0  1.0  1.0  1.0  \n",
      "506677  3.0  1.0  1.0  1.0  1.0  0.0  0.0  1.0  1.0  1.0  \n",
      "506678  0.0  1.0  1.0  1.0  1.0  1.0  1.0  0.0  0.0  0.0  \n",
      "506679  2.0  1.0  1.0  1.0  1.0  0.0  0.0  1.0  1.0  1.0  \n",
      "506680  1.0  1.0  1.0  1.0  1.0  0.0  0.0  1.0  1.0  1.0  \n",
      "506681  1.0  1.0  1.0  1.0  1.0  0.0  0.0  1.0  1.0  1.0  \n",
      "506682  0.0  1.0  1.0  1.0  1.0  0.0  0.0  0.0  1.0  1.0  \n",
      "506683  0.0  1.0  1.0  1.0  1.0  1.0  1.0  0.0  0.0  0.0  \n",
      "506684  1.0  1.0  1.0  1.0  1.0  0.0  0.0  1.0  1.0  1.0  \n",
      "506685  1.0  1.0  1.0  1.0  1.0  0.0  0.0  1.0  0.0  0.0  \n",
      "506686  0.0  1.0  1.0  1.0  1.0  0.0  0.0  1.0  1.0  1.0  \n",
      "506687  1.0  1.0  1.0  1.0  1.0  0.0  0.0  1.0  1.0  1.0  \n",
      "506688  0.0  1.0  1.0  1.0  1.0  0.0  0.0  0.0  0.0  0.0  \n",
      "506689  0.0  1.0  1.0  1.0  1.0  0.0  0.0  0.0  0.0  0.0  \n",
      "506690  1.0  1.0  1.0  1.0  1.0  0.0  0.0  1.0  1.0  1.0  \n",
      "\n",
      "[1097231 rows x 35 columns] \n",
      "\n"
     ]
    },
    {
     "name": "stdout",
     "output_type": "stream",
     "text": [
      "index after imputation:  Int64Index([     0,      1,      2,      3,      4,      5,      6,      7,\n",
      "                 8,      9,\n",
      "            ...\n",
      "            506681, 506682, 506683, 506684, 506685, 506686, 506687, 506688,\n",
      "            506689, 506690],\n",
      "           dtype='int64', length=1097231) \n",
      "\n",
      "columns after imputation:  Index(['TransactionID', 'TransactionDT', 'TransactionAmt', 'ProductCD',\n",
      "       'card1', 'card2', 'card3', 'card4', 'card5', 'card6',\n",
      "       ...\n",
      "       'V312', 'V313', 'V314', 'V315', 'V316', 'V317', 'V318', 'V319', 'V320',\n",
      "       'V321'],\n",
      "      dtype='object', length=226) \n",
      "\n"
     ]
    }
   ],
   "source": [
    "print(\"index before imputation: \", transaction_data.index, \"\\n\")\n",
    "print(\"columns before imputation: \", transaction_data.columns, \"\\n\")\n",
    "\n",
    "print(\"values before imputing: \", transaction_data[medium_missing_num_trans_cols], \"\\n\")\n",
    "\n",
    "my_imputer = SimpleImputer(strategy = 'median') \n",
    "my_imputer.fit(transaction_data[medium_missing_num_trans_cols])\n",
    "\n",
    "transaction_data[medium_missing_num_trans_cols] = my_imputer.transform(transaction_data[medium_missing_num_trans_cols])\n",
    "\n",
    "print(\"index after imputation: \", transaction_data.index, \"\\n\")\n",
    "print(\"columns after imputation: \", transaction_data.columns, \"\\n\")"
   ]
  },
  {
   "cell_type": "markdown",
   "metadata": {},
   "source": [
    "## Clean CATEGORICAL features"
   ]
  },
  {
   "cell_type": "markdown",
   "metadata": {},
   "source": [
    "### drop features with many missing values"
   ]
  },
  {
   "cell_type": "code",
   "execution_count": 58,
   "metadata": {},
   "outputs": [
    {
     "name": "stdout",
     "output_type": "stream",
     "text": [
      "shape before dropping many_missing_cat_trans_cols:  (1097231, 226) \n",
      "\n",
      "shape after dropping many_missing_cat_trans_cols:  (1097231, 224) \n",
      "\n",
      "\n",
      "shape before dropping many_missing_cat_id_cols:  (286140, 33) \n",
      "\n",
      "shape after dropping many_missing_cat_id_cols:  (286140, 31) \n",
      "\n"
     ]
    }
   ],
   "source": [
    "print(\"shape before dropping many_missing_cat_trans_cols: \", transaction_data.shape, \"\\n\")        \n",
    "transaction_data = transaction_data.drop(columns = many_missing_cat_trans_cols)\n",
    "print(\"shape after dropping many_missing_cat_trans_cols: \", transaction_data.shape, \"\\n\\n\")    \n",
    "\n",
    "print(\"shape before dropping many_missing_cat_id_cols: \", identity_data.shape, \"\\n\")        \n",
    "identity_data = identity_data.drop(columns = many_missing_cat_id_cols)\n",
    "print(\"shape after dropping many_missing_cat_id_cols: \", identity_data.shape, \"\\n\")\n",
    "\n",
    "\n",
    "# because we dropped some categorical columns from the dataframe,\n",
    "# we must create the list 'cat_trans_cols' and\n",
    "# 'cat_id_cols' again such that the dropped cols are no longer in them\n",
    "c = (transaction_data.dtypes == 'object')\n",
    "cat_trans_cols = list(c[c].index) \n",
    "\n",
    "c = (identity_data.dtypes == 'object')\n",
    "cat_id_cols = list(c[c].index) \n",
    "\n"
   ]
  },
  {
   "cell_type": "markdown",
   "metadata": {},
   "source": [
    "# merge data"
   ]
  },
  {
   "cell_type": "code",
   "execution_count": 60,
   "metadata": {},
   "outputs": [],
   "source": [
    "df_merged = transaction_data.merge(identity_data, on='TransactionID', how='left')"
   ]
  },
  {
   "cell_type": "code",
   "execution_count": 61,
   "metadata": {},
   "outputs": [
    {
     "data": {
      "text/plain": [
       "(1097231, 254)"
      ]
     },
     "execution_count": 61,
     "metadata": {},
     "output_type": "execute_result"
    }
   ],
   "source": [
    "df_merged.shape"
   ]
  },
  {
   "cell_type": "code",
   "execution_count": null,
   "metadata": {},
   "outputs": [],
   "source": []
  }
 ],
 "metadata": {
  "kernelspec": {
   "display_name": "Python 3",
   "language": "python",
   "name": "python3"
  },
  "language_info": {
   "codemirror_mode": {
    "name": "ipython",
    "version": 3
   },
   "file_extension": ".py",
   "mimetype": "text/x-python",
   "name": "python",
   "nbconvert_exporter": "python",
   "pygments_lexer": "ipython3",
   "version": "3.7.7"
  },
  "latex_envs": {
   "LaTeX_envs_menu_present": true,
   "autoclose": false,
   "autocomplete": true,
   "bibliofile": "biblio.bib",
   "cite_by": "apalike",
   "current_citInitial": 1,
   "eqLabelWithNumbers": true,
   "eqNumInitial": 1,
   "hotkeys": {
    "equation": "Ctrl-E",
    "itemize": "Ctrl-I"
   },
   "labels_anchors": false,
   "latex_user_defs": false,
   "report_style_numbering": false,
   "user_envs_cfg": false
  },
  "toc": {
   "base_numbering": 1,
   "nav_menu": {},
   "number_sections": true,
   "sideBar": true,
   "skip_h1_title": false,
   "title_cell": "Table of Contents",
   "title_sidebar": "Contents",
   "toc_cell": false,
   "toc_position": {},
   "toc_section_display": true,
   "toc_window_display": false
  }
 },
 "nbformat": 4,
 "nbformat_minor": 4
}
